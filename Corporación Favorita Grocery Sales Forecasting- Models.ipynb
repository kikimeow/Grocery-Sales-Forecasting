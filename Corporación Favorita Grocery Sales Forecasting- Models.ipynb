{
 "cells": [
  {
   "cell_type": "markdown",
   "metadata": {},
   "source": [
    "# Corporación Favorita Grocery Sales Forecasting"
   ]
  },
  {
   "cell_type": "markdown",
   "metadata": {},
   "source": [
    "### Time-Series Models"
   ]
  },
  {
   "cell_type": "markdown",
   "metadata": {},
   "source": [
    "This notebook explores different models to forecast sales:\n",
    "* Timetk\n",
    "* ARIMA\n",
    "* Prophet"
   ]
  },
  {
   "cell_type": "code",
   "execution_count": 13,
   "metadata": {},
   "outputs": [
    {
     "name": "stderr",
     "output_type": "stream",
     "text": [
      "Warning message:\n",
      "\"package 'prophet' was built under R version 3.4.3\"Loading required package: Rcpp\n"
     ]
    }
   ],
   "source": [
    "# load library\n",
    "library(data.table)\n",
    "library(dplyr)\n",
    "library(lubridate)\n",
    "library(zoo)\n",
    "library(ggplot2)\n",
    "library(repr)\n",
    "library(grid) # for multiplot\n",
    "library(scales) # for date plotting\n",
    "library(timetk)     # Toolkit for working with time series in R\n",
    "library(quantmod)\n",
    "library(tidyquant)\n",
    "library(treemapify)\n",
    "library(sweep)\n",
    "library(forecast)\n",
    "library(fpp2)\n",
    "library(prophet);"
   ]
  },
  {
   "cell_type": "code",
   "execution_count": 14,
   "metadata": {},
   "outputs": [],
   "source": [
    "# load datasets\n",
    "#train <- readRDS(paste0(getwd(), '/data/train.rds'))\n",
    "transactions <- readRDS(paste0(getwd(),'/data/transactions.rds'))\n"
   ]
  },
  {
   "cell_type": "markdown",
   "metadata": {},
   "source": [
    "### Timeseries forecast of transaction data using timetk package"
   ]
  },
  {
   "cell_type": "code",
   "execution_count": 15,
   "metadata": {},
   "outputs": [],
   "source": [
    "transData <- transactions %>%\n",
    " select(date, transactions) %>%\n",
    " group_by(date) %>%\n",
    " summarize(total = sum(transactions))"
   ]
  },
  {
   "cell_type": "markdown",
   "metadata": {},
   "source": [
    "Check the indexed dates"
   ]
  },
  {
   "cell_type": "code",
   "execution_count": 16,
   "metadata": {},
   "outputs": [
    {
     "data": {
      "text/html": [
       "<ol class=list-inline>\n",
       "\t<li><time datetime=\"2013-01-01\">2013-01-01</time></li>\n",
       "\t<li><time datetime=\"2013-01-02\">2013-01-02</time></li>\n",
       "\t<li><time datetime=\"2013-01-03\">2013-01-03</time></li>\n",
       "\t<li><time datetime=\"2013-01-04\">2013-01-04</time></li>\n",
       "\t<li><time datetime=\"2013-01-05\">2013-01-05</time></li>\n",
       "\t<li><time datetime=\"2013-01-06\">2013-01-06</time></li>\n",
       "</ol>\n"
      ],
      "text/latex": [
       "\\begin{enumerate*}\n",
       "\\item 2013-01-01\n",
       "\\item 2013-01-02\n",
       "\\item 2013-01-03\n",
       "\\item 2013-01-04\n",
       "\\item 2013-01-05\n",
       "\\item 2013-01-06\n",
       "\\end{enumerate*}\n"
      ],
      "text/markdown": [
       "1. 2013-01-01\n",
       "2. 2013-01-02\n",
       "3. 2013-01-03\n",
       "4. 2013-01-04\n",
       "5. 2013-01-05\n",
       "6. 2013-01-06\n",
       "\n",
       "\n"
      ],
      "text/plain": [
       "[1] \"2013-01-01\" \"2013-01-02\" \"2013-01-03\" \"2013-01-04\" \"2013-01-05\"\n",
       "[6] \"2013-01-06\""
      ]
     },
     "metadata": {},
     "output_type": "display_data"
    }
   ],
   "source": [
    "idx <- tk_index(transData)\n",
    "head(idx)"
   ]
  },
  {
   "cell_type": "markdown",
   "metadata": {},
   "source": [
    "Get a \"summary\" of the timeseries differences in seconds. The timeseries differences give the user a better picture of the index frequency so the user can understand the level of regularity or irregulairity. "
   ]
  },
  {
   "cell_type": "code",
   "execution_count": 17,
   "metadata": {},
   "outputs": [
    {
     "data": {
      "text/html": [
       "<table>\n",
       "<thead><tr><th scope=col>n.obs</th><th scope=col>start</th><th scope=col>end</th><th scope=col>units</th><th scope=col>scale</th><th scope=col>tzone</th><th scope=col>diff.minimum</th><th scope=col>diff.q1</th><th scope=col>diff.median</th><th scope=col>diff.mean</th><th scope=col>diff.q3</th><th scope=col>diff.maximum</th></tr></thead>\n",
       "<tbody>\n",
       "\t<tr><td>1682      </td><td>2013-01-01</td><td>2017-08-15</td><td>days      </td><td>day       </td><td>UTC       </td><td>86400     </td><td>86400     </td><td>86400     </td><td>86708.39  </td><td>86400     </td><td>172800    </td></tr>\n",
       "</tbody>\n",
       "</table>\n"
      ],
      "text/latex": [
       "\\begin{tabular}{r|llllllllllll}\n",
       " n.obs & start & end & units & scale & tzone & diff.minimum & diff.q1 & diff.median & diff.mean & diff.q3 & diff.maximum\\\\\n",
       "\\hline\n",
       "\t 1682       & 2013-01-01 & 2017-08-15 & days       & day        & UTC        & 86400      & 86400      & 86400      & 86708.39   & 86400      & 172800    \\\\\n",
       "\\end{tabular}\n"
      ],
      "text/markdown": [
       "\n",
       "n.obs | start | end | units | scale | tzone | diff.minimum | diff.q1 | diff.median | diff.mean | diff.q3 | diff.maximum | \n",
       "|---|\n",
       "| 1682       | 2013-01-01 | 2017-08-15 | days       | day        | UTC        | 86400      | 86400      | 86400      | 86708.39   | 86400      | 172800     | \n",
       "\n",
       "\n"
      ],
      "text/plain": [
       "  n.obs start      end        units scale tzone diff.minimum diff.q1\n",
       "1 1682  2013-01-01 2017-08-15 days  day   UTC   86400        86400  \n",
       "  diff.median diff.mean diff.q3 diff.maximum\n",
       "1 86400       86708.39  86400   172800      "
      ]
     },
     "metadata": {},
     "output_type": "display_data"
    }
   ],
   "source": [
    "tk_get_timeseries_summary(idx)"
   ]
  },
  {
   "cell_type": "markdown",
   "metadata": {},
   "source": [
    "Check the time series signature from the index, a tibble of decomposed features"
   ]
  },
  {
   "cell_type": "code",
   "execution_count": 18,
   "metadata": {},
   "outputs": [
    {
     "data": {
      "text/plain": [
       "     index              index.num              diff             year     \n",
       " Min.   :2013-01-01   Min.   :1.357e+09   Min.   : 86400   Min.   :2013  \n",
       " 1st Qu.:2014-02-26   1st Qu.:1.393e+09   1st Qu.: 86400   1st Qu.:2014  \n",
       " Median :2015-04-23   Median :1.430e+09   Median : 86400   Median :2015  \n",
       " Mean   :2015-04-24   Mean   :1.430e+09   Mean   : 86708   Mean   :2015  \n",
       " 3rd Qu.:2016-06-19   3rd Qu.:1.466e+09   3rd Qu.: 86400   3rd Qu.:2016  \n",
       " Max.   :2017-08-15   Max.   :1.503e+09   Max.   :172800   Max.   :2017  \n",
       "                                          NA's   :1                      \n",
       "    year.iso         half          quarter          month       \n",
       " Min.   :2013   Min.   :1.000   Min.   :1.000   Min.   : 1.000  \n",
       " 1st Qu.:2014   1st Qu.:1.000   1st Qu.:1.000   1st Qu.: 3.000  \n",
       " Median :2015   Median :1.000   Median :2.000   Median : 6.000  \n",
       " Mean   :2015   Mean   :1.463   Mean   :2.412   Mean   : 6.214  \n",
       " 3rd Qu.:2016   3rd Qu.:2.000   3rd Qu.:3.000   3rd Qu.: 9.000  \n",
       " Max.   :2017   Max.   :2.000   Max.   :4.000   Max.   :12.000  \n",
       "                                                                \n",
       "   month.xts        month.lbl        day             hour       minute \n",
       " Min.   : 0.000   March  :155   Min.   : 1.00   Min.   :0   Min.   :0  \n",
       " 1st Qu.: 2.000   May    :155   1st Qu.: 8.00   1st Qu.:0   1st Qu.:0  \n",
       " Median : 5.000   July   :155   Median :16.00   Median :0   Median :0  \n",
       " Mean   : 5.214   January:153   Mean   :15.65   Mean   :0   Mean   :0  \n",
       " 3rd Qu.: 8.000   April  :150   3rd Qu.:23.00   3rd Qu.:0   3rd Qu.:0  \n",
       " Max.   :11.000   June   :150   Max.   :31.00   Max.   :0   Max.   :0  \n",
       "                  (Other):764                                          \n",
       "     second      hour12      am.pm        wday      wday.xts      wday.lbl  \n",
       " Min.   :0   Min.   :0   Min.   :1   Min.   :1   Min.   :0   Sunday   :239  \n",
       " 1st Qu.:0   1st Qu.:0   1st Qu.:1   1st Qu.:2   1st Qu.:1   Monday   :241  \n",
       " Median :0   Median :0   Median :1   Median :4   Median :3   Tuesday  :242  \n",
       " Mean   :0   Mean   :0   Mean   :1   Mean   :4   Mean   :3   Wednesday:240  \n",
       " 3rd Qu.:0   3rd Qu.:0   3rd Qu.:1   3rd Qu.:6   3rd Qu.:5   Thursday :240  \n",
       " Max.   :0   Max.   :0   Max.   :1   Max.   :7   Max.   :6   Friday   :239  \n",
       "                                                             Saturday :241  \n",
       "      mday            qday            yday           mweek      \n",
       " Min.   : 1.00   Min.   : 1.00   Min.   :  1.0   Min.   :1.000  \n",
       " 1st Qu.: 8.00   1st Qu.:23.00   1st Qu.: 85.0   1st Qu.:2.000  \n",
       " Median :16.00   Median :45.00   Median :169.0   Median :3.000  \n",
       " Mean   :15.65   Mean   :45.45   Mean   :173.6   Mean   :3.089  \n",
       " 3rd Qu.:23.00   3rd Qu.:68.00   3rd Qu.:259.8   3rd Qu.:4.000  \n",
       " Max.   :31.00   Max.   :92.00   Max.   :366.0   Max.   :6.000  \n",
       "                                                                \n",
       "      week          week.iso         week2           week3      \n",
       " Min.   : 1.00   Min.   : 1.00   Min.   :0.000   Min.   :0.000  \n",
       " 1st Qu.:13.00   1st Qu.:13.00   1st Qu.:0.000   1st Qu.:0.000  \n",
       " Median :25.00   Median :25.00   Median :1.000   Median :1.000  \n",
       " Mean   :25.23   Mean   :25.21   Mean   :0.503   Mean   :1.005  \n",
       " 3rd Qu.:37.75   3rd Qu.:37.75   3rd Qu.:1.000   3rd Qu.:2.000  \n",
       " Max.   :53.00   Max.   :53.00   Max.   :1.000   Max.   :2.000  \n",
       "                                                                \n",
       "     week4           mday7     \n",
       " Min.   :0.000   Min.   :1.00  \n",
       " 1st Qu.:1.000   1st Qu.:2.00  \n",
       " Median :1.000   Median :3.00  \n",
       " Mean   :1.502   Mean   :2.82  \n",
       " 3rd Qu.:2.000   3rd Qu.:4.00  \n",
       " Max.   :3.000   Max.   :5.00  \n",
       "                               "
      ]
     },
     "metadata": {},
     "output_type": "display_data"
    }
   ],
   "source": [
    "summary(tk_get_timeseries_signature(idx))"
   ]
  },
  {
   "cell_type": "markdown",
   "metadata": {},
   "source": [
    "Add the time series signature features including numeric value, differences, year, month, day, day of week, day of month, day of year, hour, minute, second to the input data."
   ]
  },
  {
   "cell_type": "code",
   "execution_count": 19,
   "metadata": {},
   "outputs": [
    {
     "name": "stdout",
     "output_type": "stream",
     "text": [
      "Observations: 1,682\n",
      "Variables: 24\n",
      "$ date      <date> 2013-01-01, 2013-01-02, 2013-01-03, 2013-01-04, 2013-01-...\n",
      "$ total     <dbl> 770, 93215, 78504, 78494, 93573, 90464, 75597, 72325, 719...\n",
      "$ index.num <int> 1356998400, 1357084800, 1357171200, 1357257600, 135734400...\n",
      "$ year      <int> 2013, 2013, 2013, 2013, 2013, 2013, 2013, 2013, 2013, 201...\n",
      "$ year.iso  <int> 2013, 2013, 2013, 2013, 2013, 2013, 2013, 2013, 2013, 201...\n",
      "$ half      <int> 1, 1, 1, 1, 1, 1, 1, 1, 1, 1, 1, 1, 1, 1, 1, 1, 1, 1, 1, ...\n",
      "$ quarter   <int> 1, 1, 1, 1, 1, 1, 1, 1, 1, 1, 1, 1, 1, 1, 1, 1, 1, 1, 1, ...\n",
      "$ month     <int> 1, 1, 1, 1, 1, 1, 1, 1, 1, 1, 1, 1, 1, 1, 1, 1, 1, 1, 1, ...\n",
      "$ month.xts <int> 0, 0, 0, 0, 0, 0, 0, 0, 0, 0, 0, 0, 0, 0, 0, 0, 0, 0, 0, ...\n",
      "$ month.lbl <ord> January, January, January, January, January, January, Jan...\n",
      "$ day       <int> 1, 2, 3, 4, 5, 6, 7, 8, 9, 10, 11, 12, 13, 14, 15, 16, 17...\n",
      "$ wday      <int> 3, 4, 5, 6, 7, 1, 2, 3, 4, 5, 6, 7, 1, 2, 3, 4, 5, 6, 7, ...\n",
      "$ wday.xts  <int> 2, 3, 4, 5, 6, 0, 1, 2, 3, 4, 5, 6, 0, 1, 2, 3, 4, 5, 6, ...\n",
      "$ wday.lbl  <ord> Tuesday, Wednesday, Thursday, Friday, Saturday, Sunday, M...\n",
      "$ mday      <int> 1, 2, 3, 4, 5, 6, 7, 8, 9, 10, 11, 12, 13, 14, 15, 16, 17...\n",
      "$ qday      <int> 1, 2, 3, 4, 5, 6, 7, 8, 9, 10, 11, 12, 13, 14, 15, 16, 17...\n",
      "$ yday      <int> 1, 2, 3, 4, 5, 6, 7, 8, 9, 10, 11, 12, 13, 14, 15, 16, 17...\n",
      "$ mweek     <int> 6, 1, 1, 1, 1, 1, 2, 2, 2, 2, 2, 2, 2, 3, 3, 3, 3, 3, 3, ...\n",
      "$ week      <int> 1, 1, 1, 1, 1, 1, 1, 2, 2, 2, 2, 2, 2, 2, 3, 3, 3, 3, 3, ...\n",
      "$ week.iso  <int> 1, 1, 1, 1, 1, 1, 2, 2, 2, 2, 2, 2, 2, 3, 3, 3, 3, 3, 3, ...\n",
      "$ week2     <int> 1, 1, 1, 1, 1, 1, 1, 0, 0, 0, 0, 0, 0, 0, 1, 1, 1, 1, 1, ...\n",
      "$ week3     <int> 1, 1, 1, 1, 1, 1, 1, 2, 2, 2, 2, 2, 2, 2, 0, 0, 0, 0, 0, ...\n",
      "$ week4     <int> 1, 1, 1, 1, 1, 1, 1, 2, 2, 2, 2, 2, 2, 2, 3, 3, 3, 3, 3, ...\n",
      "$ mday7     <int> 1, 1, 1, 1, 1, 1, 2, 2, 2, 2, 2, 2, 2, 3, 3, 3, 3, 3, 3, ...\n"
     ]
    }
   ],
   "source": [
    "transData <- transData %>%\n",
    "  tk_augment_timeseries_signature() %>%\n",
    "  select(-(hour:am.pm), -diff) \n",
    "\n",
    "glimpse(transData)"
   ]
  },
  {
   "cell_type": "markdown",
   "metadata": {},
   "source": [
    "Separate into training and testing set"
   ]
  },
  {
   "cell_type": "code",
   "execution_count": 20,
   "metadata": {},
   "outputs": [],
   "source": [
    "train <- transData %>%\n",
    "  filter(date < '2017-01-01')\n",
    "\n",
    "test <- transData %>%\n",
    "  filter(date >= '2017-01-01')\n"
   ]
  },
  {
   "cell_type": "markdown",
   "metadata": {},
   "source": [
    "Use basic linear regression model"
   ]
  },
  {
   "cell_type": "code",
   "execution_count": 21,
   "metadata": {},
   "outputs": [
    {
     "data": {
      "text/plain": [
       "\n",
       "Call:\n",
       "lm(formula = total ~ ., data = select(train, -c(date)))\n",
       "\n",
       "Residuals:\n",
       "   Min     1Q Median     3Q    Max \n",
       "-72774  -2695   -367   2251  74829 \n",
       "\n",
       "Coefficients: (8 not defined because of singularities)\n",
       "               Estimate Std. Error t value Pr(>|t|)    \n",
       "(Intercept)  -1.603e+09  8.568e+08  -1.871  0.06150 .  \n",
       "index.num    -2.572e-02  1.378e-02  -1.865  0.06232 .  \n",
       "year          7.100e+05  4.902e+05   1.448  0.14774    \n",
       "year.iso      1.038e+05  7.038e+04   1.475  0.14038    \n",
       "half         -5.196e+03  4.775e+03  -1.088  0.27667    \n",
       "quarter       4.555e+04  1.583e+05   0.288  0.77357    \n",
       "month         4.918e+04  6.254e+04   0.786  0.43176    \n",
       "month.xts            NA         NA      NA       NA    \n",
       "month.lbl.L          NA         NA      NA       NA    \n",
       "month.lbl.Q   1.118e+04  1.947e+03   5.744 1.13e-08 ***\n",
       "month.lbl.C   8.202e+03  3.997e+03   2.052  0.04036 *  \n",
       "month.lbl^4   5.235e+03  9.332e+02   5.610 2.43e-08 ***\n",
       "month.lbl^5   8.802e+03  3.157e+03   2.788  0.00538 ** \n",
       "month.lbl^6   2.469e+03  1.217e+03   2.028  0.04271 *  \n",
       "month.lbl^7   1.279e+03  1.174e+03   1.090  0.27596    \n",
       "month.lbl^8  -1.461e+03  2.511e+03  -0.582  0.56070    \n",
       "month.lbl^9          NA         NA      NA       NA    \n",
       "month.lbl^10 -3.425e+02  1.637e+03  -0.209  0.83428    \n",
       "month.lbl^11         NA         NA      NA       NA    \n",
       "day           1.410e+03  2.055e+03   0.686  0.49291    \n",
       "wday          6.628e+02  1.238e+02   5.354 9.99e-08 ***\n",
       "wday.xts             NA         NA      NA       NA    \n",
       "wday.lbl.L           NA         NA      NA       NA    \n",
       "wday.lbl.Q    1.802e+04  9.325e+02  19.318  < 2e-16 ***\n",
       "wday.lbl.C    1.542e+03  8.051e+02   1.915  0.05565 .  \n",
       "wday.lbl^4    5.500e+03  6.443e+02   8.536  < 2e-16 ***\n",
       "wday.lbl^5   -1.341e+03  5.743e+02  -2.335  0.01970 *  \n",
       "wday.lbl^6   -1.816e+03  5.544e+02  -3.276  0.00108 ** \n",
       "mday                 NA         NA      NA       NA    \n",
       "qday          4.757e+02  1.747e+03   0.272  0.78545    \n",
       "yday                 NA         NA      NA       NA    \n",
       "mweek         3.727e-01  2.727e+02   0.001  0.99891    \n",
       "week         -4.717e+02  8.283e+02  -0.569  0.56913    \n",
       "week.iso      1.567e+03  1.349e+03   1.161  0.24577    \n",
       "week2        -5.989e+02  4.681e+02  -1.279  0.20099    \n",
       "week3        -7.650e+02  2.625e+02  -2.914  0.00362 ** \n",
       "week4         5.848e+02  2.099e+02   2.786  0.00541 ** \n",
       "mday7         8.358e+02  7.623e+02   1.096  0.27311    \n",
       "---\n",
       "Signif. codes:  0 '***' 0.001 '**' 0.01 '*' 0.05 '.' 0.1 ' ' 1\n",
       "\n",
       "Residual standard error: 7972 on 1425 degrees of freedom\n",
       "Multiple R-squared:  0.5967,\tAdjusted R-squared:  0.5885 \n",
       "F-statistic: 72.71 on 29 and 1425 DF,  p-value: < 2.2e-16\n"
      ]
     },
     "metadata": {},
     "output_type": "display_data"
    }
   ],
   "source": [
    "fit_lm <- lm(total ~ ., data = select(train, -c(date)))\n",
    "summary(fit_lm)"
   ]
  },
  {
   "cell_type": "markdown",
   "metadata": {},
   "source": [
    "Make predictions"
   ]
  },
  {
   "cell_type": "code",
   "execution_count": 22,
   "metadata": {},
   "outputs": [
    {
     "name": "stderr",
     "output_type": "stream",
     "text": [
      "Warning message in predict.lm(fit_lm, newdata = select(test, -c(date))):\n",
      "\"prediction from a rank-deficient fit may be misleading\""
     ]
    },
    {
     "data": {
      "text/html": [
       "<table>\n",
       "<thead><tr><th scope=col>date</th><th scope=col>predictions</th><th scope=col>actuals</th></tr></thead>\n",
       "<tbody>\n",
       "\t<tr><td>2017-01-02</td><td>80099.25  </td><td>107718    </td></tr>\n",
       "\t<tr><td>2017-01-03</td><td>78135.95  </td><td> 97185    </td></tr>\n",
       "\t<tr><td>2017-01-04</td><td>79442.90  </td><td> 91527    </td></tr>\n",
       "\t<tr><td>2017-01-05</td><td>76066.76  </td><td> 84930    </td></tr>\n",
       "\t<tr><td>2017-01-06</td><td>81315.82  </td><td> 89963    </td></tr>\n",
       "\t<tr><td>2017-01-07</td><td>96847.20  </td><td>102954    </td></tr>\n",
       "</tbody>\n",
       "</table>\n"
      ],
      "text/latex": [
       "\\begin{tabular}{r|lll}\n",
       " date & predictions & actuals\\\\\n",
       "\\hline\n",
       "\t 2017-01-02 & 80099.25   & 107718    \\\\\n",
       "\t 2017-01-03 & 78135.95   &  97185    \\\\\n",
       "\t 2017-01-04 & 79442.90   &  91527    \\\\\n",
       "\t 2017-01-05 & 76066.76   &  84930    \\\\\n",
       "\t 2017-01-06 & 81315.82   &  89963    \\\\\n",
       "\t 2017-01-07 & 96847.20   & 102954    \\\\\n",
       "\\end{tabular}\n"
      ],
      "text/markdown": [
       "\n",
       "date | predictions | actuals | \n",
       "|---|---|---|---|---|---|\n",
       "| 2017-01-02 | 80099.25   | 107718     | \n",
       "| 2017-01-03 | 78135.95   |  97185     | \n",
       "| 2017-01-04 | 79442.90   |  91527     | \n",
       "| 2017-01-05 | 76066.76   |  84930     | \n",
       "| 2017-01-06 | 81315.82   |  89963     | \n",
       "| 2017-01-07 | 96847.20   | 102954     | \n",
       "\n",
       "\n"
      ],
      "text/plain": [
       "  date       predictions actuals\n",
       "1 2017-01-02 80099.25    107718 \n",
       "2 2017-01-03 78135.95     97185 \n",
       "3 2017-01-04 79442.90     91527 \n",
       "4 2017-01-05 76066.76     84930 \n",
       "5 2017-01-06 81315.82     89963 \n",
       "6 2017-01-07 96847.20    102954 "
      ]
     },
     "metadata": {},
     "output_type": "display_data"
    }
   ],
   "source": [
    "pred <- predict(fit_lm, newdata = select(test, -c(date)))\n",
    "\n",
    "predictions <- data.frame( date = test$date, predictions = pred, actuals = test$total) %>%\n",
    "  filter(date > '2017-01-01')\n",
    "head(predictions)\n",
    "\n"
   ]
  },
  {
   "cell_type": "markdown",
   "metadata": {},
   "source": [
    "Plot the forecast.  The forecast is not very good and fails to capture peaks."
   ]
  },
  {
   "cell_type": "code",
   "execution_count": 23,
   "metadata": {},
   "outputs": [
    {
     "data": {},
     "metadata": {},
     "output_type": "display_data"
    },
    {
     "data": {
      "image/png": "[encoded data removed]",
      "text/plain": [
       "plot without title"
      ]
     },
     "metadata": {},
     "output_type": "display_data"
    }
   ],
   "source": [
    "chart <- train %>%\n",
    "  filter(date > '2016-07-01') %>%\n",
    "  \n",
    "  # training data\n",
    "  ggplot(aes(x = date, y = total)) +\n",
    "  geom_line( color = \"sky blue\") +\n",
    "  \n",
    "  # actual\n",
    "  geom_line(aes(y = actuals), color = \"sky blue\", data = predictions) +\n",
    "  \n",
    "  # predictions\n",
    "  geom_line(aes(y = predictions), color = \"red\", data = predictions) +\n",
    "\n",
    "\n",
    "  labs(title = \"Transaction Forecast using Linear Regression\")\n",
    "chart\n"
   ]
  },
  {
   "cell_type": "markdown",
   "metadata": {},
   "source": [
    "### ARIMA forecast"
   ]
  },
  {
   "cell_type": "markdown",
   "metadata": {},
   "source": [
    "Prepare data to filter out leap days, first day of the year, X'mas, where not all stores have data.  Fill in 6 rows of missing data\n",
    "  "
   ]
  },
  {
   "cell_type": "markdown",
   "metadata": {},
   "source": [
    "#### Reference:  Need to finish reading http://otexts.org/fpp2/lag-plots.html"
   ]
  },
  {
   "cell_type": "code",
   "execution_count": 24,
   "metadata": {},
   "outputs": [
    {
     "data": {
      "text/plain": [
       "      date                total       \n",
       " Min.   :2013-01-02   Min.   : 17829  \n",
       " 1st Qu.:2014-02-27   1st Qu.: 76281  \n",
       " Median :2015-04-24   Median : 81645  \n",
       " Mean   :2015-04-24   Mean   : 84304  \n",
       " 3rd Qu.:2016-06-19   3rd Qu.: 90783  \n",
       " Max.   :2017-08-15   Max.   :171169  "
      ]
     },
     "metadata": {},
     "output_type": "display_data"
    },
    {
     "data": {
      "text/html": [
       "<table>\n",
       "<thead><tr><th scope=col>date</th><th scope=col>total</th></tr></thead>\n",
       "<tbody>\n",
       "</tbody>\n",
       "</table>\n"
      ],
      "text/latex": [
       "\\begin{tabular}{r|ll}\n",
       " date & total\\\\\n",
       "\\hline\n",
       "\\end{tabular}\n"
      ],
      "text/markdown": [
       "\n",
       "date | total | \n",
       "||\n",
       "\n",
       "\n"
      ],
      "text/plain": [
       "     date total"
      ]
     },
     "metadata": {},
     "output_type": "display_data"
    },
    {
     "data": {
      "text/html": [
       "<table>\n",
       "<thead><tr><th scope=col>date</th><th scope=col>total</th></tr></thead>\n",
       "<tbody>\n",
       "\t<tr><td>2016-01-04</td><td>17829     </td></tr>\n",
       "</tbody>\n",
       "</table>\n"
      ],
      "text/latex": [
       "\\begin{tabular}{r|ll}\n",
       " date & total\\\\\n",
       "\\hline\n",
       "\t 2016-01-04 & 17829     \\\\\n",
       "\\end{tabular}\n"
      ],
      "text/markdown": [
       "\n",
       "date | total | \n",
       "|---|\n",
       "| 2016-01-04 | 17829      | \n",
       "\n",
       "\n"
      ],
      "text/plain": [
       "  date       total\n",
       "1 2016-01-04 17829"
      ]
     },
     "metadata": {},
     "output_type": "display_data"
    },
    {
     "data": {
      "text/html": [
       "<table>\n",
       "<thead><tr><th scope=col>date</th><th scope=col>total</th></tr></thead>\n",
       "<tbody>\n",
       "\t<tr><td>2015-12-24</td><td>171169    </td></tr>\n",
       "</tbody>\n",
       "</table>\n"
      ],
      "text/latex": [
       "\\begin{tabular}{r|ll}\n",
       " date & total\\\\\n",
       "\\hline\n",
       "\t 2015-12-24 & 171169    \\\\\n",
       "\\end{tabular}\n"
      ],
      "text/markdown": [
       "\n",
       "date | total | \n",
       "|---|\n",
       "| 2015-12-24 | 171169     | \n",
       "\n",
       "\n"
      ],
      "text/plain": [
       "  date       total \n",
       "1 2015-12-24 171169"
      ]
     },
     "metadata": {},
     "output_type": "display_data"
    },
    {
     "data": {
      "text/html": [
       "<table>\n",
       "<thead><tr><th scope=col>date</th><th scope=col>total</th></tr></thead>\n",
       "<tbody>\n",
       "\t<tr><td>2016-01-02</td><td>69628     </td></tr>\n",
       "</tbody>\n",
       "</table>\n"
      ],
      "text/latex": [
       "\\begin{tabular}{r|ll}\n",
       " date & total\\\\\n",
       "\\hline\n",
       "\t 2016-01-02 & 69628     \\\\\n",
       "\\end{tabular}\n"
      ],
      "text/markdown": [
       "\n",
       "date | total | \n",
       "|---|\n",
       "| 2016-01-02 | 69628      | \n",
       "\n",
       "\n"
      ],
      "text/plain": [
       "  date       total\n",
       "1 2016-01-02 69628"
      ]
     },
     "metadata": {},
     "output_type": "display_data"
    }
   ],
   "source": [
    "x <- data.frame(date = seq(ymd('2013-01-01'),ymd('2017-08-15'), by = 'days'))\n",
    "\n",
    "transData <- x %>%\n",
    "  left_join(transactions, by = 'date') %>%\n",
    "  select(date, transactions) %>%\n",
    "  group_by(date) %>%\n",
    "  summarize(total = sum(transactions)) %>%\n",
    "  ungroup() %>%\n",
    "  filter(!date %in% as.Date(c('2016-02-29', '2013-01-01', '2014-01-01', '2015-01-01', '2016-01-01', '2017-01-01',\n",
    "                             '2013-12-25', '2014-12-25', '2015-12-25', '2016-12-25'))) %>% \n",
    "  fill(total) # fills in missing observations from the last non-missing value \n",
    "  \n",
    "  \n",
    "summary(transData)\n",
    "subset(transData, is.na(transData$total))\n",
    "subset(transData, total == min(transData$total))\n",
    "subset(transData, total == max(transData$total))\n",
    "#subset(transactions, date == '2016-01-04') # few stores have data,  no data on 2016/1/3\n",
    "subset(transData, date == '2016-01-02')\n"
   ]
  },
  {
   "cell_type": "markdown",
   "metadata": {},
   "source": [
    "Update outliers with most recent value from 2016-01-02"
   ]
  },
  {
   "cell_type": "code",
   "execution_count": 25,
   "metadata": {},
   "outputs": [],
   "source": [
    "transData$total[transData$date == \"2016-01-04\"] <- 69628\n",
    "transData$total[transData$date == \"2016-01-03\"] <- 69628"
   ]
  },
  {
   "cell_type": "code",
   "execution_count": 26,
   "metadata": {},
   "outputs": [
    {
     "data": {
      "text/plain": [
       "      date                total       \n",
       " Min.   :2013-01-02   Min.   : 63705  \n",
       " 1st Qu.:2014-02-27   1st Qu.: 76281  \n",
       " Median :2015-04-24   Median : 81645  \n",
       " Mean   :2015-04-24   Mean   : 84335  \n",
       " 3rd Qu.:2016-06-19   3rd Qu.: 90783  \n",
       " Max.   :2017-08-15   Max.   :171169  "
      ]
     },
     "metadata": {},
     "output_type": "display_data"
    }
   ],
   "source": [
    "summary(transData)"
   ]
  },
  {
   "cell_type": "code",
   "execution_count": 27,
   "metadata": {},
   "outputs": [
    {
     "data": {},
     "metadata": {},
     "output_type": "display_data"
    },
    {
     "data": {
      "image/png": "[encoded data removed]",
      "text/plain": [
       "plot without title"
      ]
     },
     "metadata": {},
     "output_type": "display_data"
    }
   ],
   "source": [
    "transData %>%\n",
    "    ggplot(aes(date, total)) +\n",
    "    #geom_line(col = palette_light()[1]) +\n",
    "    #geom_point(col = palette_light()[1]) +\n",
    "    geom_ma(ma_fun = SMA, n = 7, linetype = 'solid') +\n",
    "    theme_tq() +\n",
    "    scale_x_date(date_breaks = \"1 year\", date_labels = \"%Y\") +\n",
    "    labs(title = \"Total Transactions: 7 Days Moving Average\")"
   ]
  },
  {
   "cell_type": "markdown",
   "metadata": {},
   "source": [
    "Turn observations into at ts object:  \n",
    "http://otexts.org/fpp2/ts-objects.html"
   ]
  },
  {
   "cell_type": "code",
   "execution_count": 28,
   "metadata": {},
   "outputs": [
    {
     "data": {
      "text/plain": [
       "\n",
       "2013 2014 2015 2016 2017 \n",
       " 363  363  363  363  226 "
      ]
     },
     "metadata": {},
     "output_type": "display_data"
    },
    {
     "data": {
      "text/html": [
       "<table>\n",
       "<thead><tr><th scope=col>n</th></tr></thead>\n",
       "<tbody>\n",
       "\t<tr><td>1678</td></tr>\n",
       "</tbody>\n",
       "</table>\n"
      ],
      "text/latex": [
       "\\begin{tabular}{r|l}\n",
       " n\\\\\n",
       "\\hline\n",
       "\t 1678\\\\\n",
       "\\end{tabular}\n"
      ],
      "text/markdown": [
       "\n",
       "n | \n",
       "|---|\n",
       "| 1678 | \n",
       "\n",
       "\n"
      ],
      "text/plain": [
       "  n   \n",
       "1 1678"
      ]
     },
     "metadata": {},
     "output_type": "display_data"
    }
   ],
   "source": [
    "table(year(transData$date))\n",
    "count(transData)"
   ]
  },
  {
   "cell_type": "code",
   "execution_count": 29,
   "metadata": {},
   "outputs": [
    {
     "name": "stdout",
     "output_type": "stream",
     "text": [
      " Time-Series [1:1678] from 2013 to 2018: 93215 78504 78494 93573 90464 ...\n"
     ]
    },
    {
     "data": {
      "text/plain": [
       "Time Series:\n",
       "Start = c(2013, 1) \n",
       "End = c(2013, 10) \n",
       "Frequency = 363 \n",
       " [1] 93215 78504 78494 93573 90464 75597 72325 71971 66383 70338"
      ]
     },
     "metadata": {},
     "output_type": "display_data"
    },
    {
     "data": {
      "text/plain": [
       "Time Series:\n",
       "Start = c(2017, 217) \n",
       "End = c(2017, 226) \n",
       "Frequency = 363 \n",
       " [1] 96162 87072 83422 85452 83064 89551 89927 85993 85448 86561"
      ]
     },
     "metadata": {},
     "output_type": "display_data"
    }
   ],
   "source": [
    "transTS <- ts(transData$total,     \n",
    "           start = c(2013, 1),\n",
    "           frequency = 363)\n",
    "str(transTS)\n",
    "head(transTS,10)\n",
    "tail(transTS,10)"
   ]
  },
  {
   "cell_type": "markdown",
   "metadata": {},
   "source": [
    "Try some plots in the forecast package"
   ]
  },
  {
   "cell_type": "code",
   "execution_count": 30,
   "metadata": {},
   "outputs": [
    {
     "data": {
      "image/png": "[encoded data removed]",
      "text/plain": [
       "plot without title"
      ]
     },
     "metadata": {},
     "output_type": "display_data"
    }
   ],
   "source": [
    "chart1 <- ggseasonplot(log10(transTS), polar=TRUE, season.labels = NULL, xlab = NULL,  ylab = \"\" ) +\n",
    "ggtitle(\"Seasonal plot: total transactions\")+\n",
    "theme_minimal() +\n",
    "theme(axis.title.x=element_blank(),\n",
    "      axis.text.x=element_blank(),\n",
    "      axis.ticks.x=element_blank())\n",
    "\n",
    "\n",
    "chart2 <- ggseasonplot(transTS, year.labels=TRUE, year.labels.left=FALSE) +\n",
    "          ggtitle(\"\") +\n",
    "          theme_minimal() +\n",
    "          theme(axis.title.x=element_blank(),\n",
    "          axis.text.x=element_blank(),\n",
    "          axis.ticks.x=element_blank())\n",
    "\n",
    "layout <- matrix(c(1,2),2,1,byrow=TRUE)\n",
    "multiplot(chart1, chart2, layout=layout)\n",
    "\n",
    "## TO DO:  http://otexts.org/fpp2/lag-plots.html"
   ]
  },
  {
   "cell_type": "markdown",
   "metadata": {},
   "source": [
    "Split dataset into training and testing set"
   ]
  },
  {
   "cell_type": "code",
   "execution_count": 31,
   "metadata": {},
   "outputs": [
    {
     "data": {
      "text/plain": [
       "Time Series:\n",
       "Start = c(2013, 1) \n",
       "End = c(2013, 10) \n",
       "Frequency = 363 \n",
       " [1] 93215 78504 78494 93573 90464 75597 72325 71971 66383 70338"
      ]
     },
     "metadata": {},
     "output_type": "display_data"
    },
    {
     "data": {
      "text/plain": [
       "Time Series:\n",
       "Start = c(2017, 217) \n",
       "End = c(2017, 226) \n",
       "Frequency = 363 \n",
       " [1] 96162 87072 83422 85452 83064 89551 89927 85993 85448 86561"
      ]
     },
     "metadata": {},
     "output_type": "display_data"
    }
   ],
   "source": [
    "train <- window(transTS, start=c(2013,1), end = c(2016,363))\n",
    "test <- window(transTS, start=c(2017,1), end=c(2017,226))\n",
    "head(train,10)\n",
    "tail(test,10)"
   ]
  },
  {
   "cell_type": "markdown",
   "metadata": {},
   "source": [
    "#### Fit the ARIMA model"
   ]
  },
  {
   "cell_type": "code",
   "execution_count": 32,
   "metadata": {},
   "outputs": [
    {
     "data": {
      "text/plain": [
       "Series: train \n",
       "ARIMA(5,1,3) \n",
       "\n",
       "Coefficients:\n",
       "         ar1      ar2     ar3      ar4      ar5      ma1     ma2      ma3\n",
       "      0.1564  -0.9768  0.0521  -0.4349  -0.4041  -0.2753  0.6612  -0.4232\n",
       "s.e.  0.0356   0.0251  0.0489   0.0241   0.0306   0.0342  0.0197   0.0345\n",
       "\n",
       "sigma^2 estimated as 41947279:  log likelihood=-14790.88\n",
       "AIC=29599.75   AICc=29599.88   BIC=29647.27"
      ]
     },
     "metadata": {},
     "output_type": "display_data"
    }
   ],
   "source": [
    "fit_arima <- auto.arima(train)\n",
    "fit_arima"
   ]
  },
  {
   "cell_type": "markdown",
   "metadata": {},
   "source": [
    "#### model coefficients"
   ]
  },
  {
   "cell_type": "code",
   "execution_count": 33,
   "metadata": {},
   "outputs": [
    {
     "data": {
      "text/html": [
       "<table>\n",
       "<thead><tr><th scope=col>term</th><th scope=col>estimate</th></tr></thead>\n",
       "<tbody>\n",
       "\t<tr><td>ar1        </td><td> 0.15638024</td></tr>\n",
       "\t<tr><td>ar2        </td><td>-0.97677582</td></tr>\n",
       "\t<tr><td>ar3        </td><td> 0.05212243</td></tr>\n",
       "\t<tr><td>ar4        </td><td>-0.43487789</td></tr>\n",
       "\t<tr><td>ar5        </td><td>-0.40410588</td></tr>\n",
       "\t<tr><td>ma1        </td><td>-0.27532688</td></tr>\n",
       "\t<tr><td>ma2        </td><td> 0.66123680</td></tr>\n",
       "\t<tr><td>ma3        </td><td>-0.42324651</td></tr>\n",
       "</tbody>\n",
       "</table>\n"
      ],
      "text/latex": [
       "\\begin{tabular}{r|ll}\n",
       " term & estimate\\\\\n",
       "\\hline\n",
       "\t ar1         &  0.15638024\\\\\n",
       "\t ar2         & -0.97677582\\\\\n",
       "\t ar3         &  0.05212243\\\\\n",
       "\t ar4         & -0.43487789\\\\\n",
       "\t ar5         & -0.40410588\\\\\n",
       "\t ma1         & -0.27532688\\\\\n",
       "\t ma2         &  0.66123680\\\\\n",
       "\t ma3         & -0.42324651\\\\\n",
       "\\end{tabular}\n"
      ],
      "text/markdown": [
       "\n",
       "term | estimate | \n",
       "|---|---|---|---|---|---|---|---|\n",
       "| ar1         |  0.15638024 | \n",
       "| ar2         | -0.97677582 | \n",
       "| ar3         |  0.05212243 | \n",
       "| ar4         | -0.43487789 | \n",
       "| ar5         | -0.40410588 | \n",
       "| ma1         | -0.27532688 | \n",
       "| ma2         |  0.66123680 | \n",
       "| ma3         | -0.42324651 | \n",
       "\n",
       "\n"
      ],
      "text/plain": [
       "  term estimate   \n",
       "1 ar1   0.15638024\n",
       "2 ar2  -0.97677582\n",
       "3 ar3   0.05212243\n",
       "4 ar4  -0.43487789\n",
       "5 ar5  -0.40410588\n",
       "6 ma1  -0.27532688\n",
       "7 ma2   0.66123680\n",
       "8 ma3  -0.42324651"
      ]
     },
     "metadata": {},
     "output_type": "display_data"
    }
   ],
   "source": [
    "sw_tidy(fit_arima)"
   ]
  },
  {
   "cell_type": "markdown",
   "metadata": {},
   "source": [
    "#### model performance"
   ]
  },
  {
   "cell_type": "code",
   "execution_count": 34,
   "metadata": {},
   "outputs": [
    {
     "data": {
      "text/html": [
       "<table>\n",
       "<thead><tr><th scope=col>model.desc</th><th scope=col>sigma</th><th scope=col>logLik</th><th scope=col>AIC</th><th scope=col>BIC</th><th scope=col>ME</th><th scope=col>RMSE</th><th scope=col>MAE</th><th scope=col>MPE</th><th scope=col>MAPE</th><th scope=col>MASE</th><th scope=col>ACF1</th></tr></thead>\n",
       "<tbody>\n",
       "\t<tr><td>ARIMA(5,1,3)</td><td>6476.672    </td><td>-14790.88   </td><td>29599.75    </td><td>29647.27    </td><td>52.79744    </td><td>6456.568    </td><td>4207.366    </td><td>-0.3384578  </td><td>4.834486    </td><td>0.5426333   </td><td>-0.0263246  </td></tr>\n",
       "</tbody>\n",
       "</table>\n"
      ],
      "text/latex": [
       "\\begin{tabular}{r|llllllllllll}\n",
       " model.desc & sigma & logLik & AIC & BIC & ME & RMSE & MAE & MPE & MAPE & MASE & ACF1\\\\\n",
       "\\hline\n",
       "\t ARIMA(5,1,3) & 6476.672     & -14790.88    & 29599.75     & 29647.27     & 52.79744     & 6456.568     & 4207.366     & -0.3384578   & 4.834486     & 0.5426333    & -0.0263246  \\\\\n",
       "\\end{tabular}\n"
      ],
      "text/markdown": [
       "\n",
       "model.desc | sigma | logLik | AIC | BIC | ME | RMSE | MAE | MPE | MAPE | MASE | ACF1 | \n",
       "|---|\n",
       "| ARIMA(5,1,3) | 6476.672     | -14790.88    | 29599.75     | 29647.27     | 52.79744     | 6456.568     | 4207.366     | -0.3384578   | 4.834486     | 0.5426333    | -0.0263246   | \n",
       "\n",
       "\n"
      ],
      "text/plain": [
       "  model.desc   sigma    logLik    AIC      BIC      ME       RMSE     MAE     \n",
       "1 ARIMA(5,1,3) 6476.672 -14790.88 29599.75 29647.27 52.79744 6456.568 4207.366\n",
       "  MPE        MAPE     MASE      ACF1      \n",
       "1 -0.3384578 4.834486 0.5426333 -0.0263246"
      ]
     },
     "metadata": {},
     "output_type": "display_data"
    }
   ],
   "source": [
    "sw_glance(fit_arima)"
   ]
  },
  {
   "cell_type": "markdown",
   "metadata": {},
   "source": [
    "#### model residuals"
   ]
  },
  {
   "cell_type": "code",
   "execution_count": 35,
   "metadata": {},
   "outputs": [
    {
     "data": {
      "text/html": [
       "<table>\n",
       "<thead><tr><th scope=col>index</th><th scope=col>.actual</th><th scope=col>.fitted</th><th scope=col>.resid</th></tr></thead>\n",
       "<tbody>\n",
       "\t<tr><td>2013.000   </td><td>93215      </td><td>93121.79   </td><td>   93.21489</td></tr>\n",
       "\t<tr><td>2013.003   </td><td>78504      </td><td>88289.48   </td><td>-9785.47975</td></tr>\n",
       "\t<tr><td>2013.006   </td><td>78494      </td><td>77936.88   </td><td>  557.12084</td></tr>\n",
       "\t<tr><td>2013.008   </td><td>93573      </td><td>87083.80   </td><td> 6489.20206</td></tr>\n",
       "\t<tr><td>2013.011   </td><td>90464      </td><td>94070.82   </td><td>-3606.82270</td></tr>\n",
       "\t<tr><td>2013.014   </td><td>75597      </td><td>83874.82   </td><td>-8277.82478</td></tr>\n",
       "</tbody>\n",
       "</table>\n"
      ],
      "text/latex": [
       "\\begin{tabular}{r|llll}\n",
       " index & .actual & .fitted & .resid\\\\\n",
       "\\hline\n",
       "\t 2013.000    & 93215       & 93121.79    &    93.21489\\\\\n",
       "\t 2013.003    & 78504       & 88289.48    & -9785.47975\\\\\n",
       "\t 2013.006    & 78494       & 77936.88    &   557.12084\\\\\n",
       "\t 2013.008    & 93573       & 87083.80    &  6489.20206\\\\\n",
       "\t 2013.011    & 90464       & 94070.82    & -3606.82270\\\\\n",
       "\t 2013.014    & 75597       & 83874.82    & -8277.82478\\\\\n",
       "\\end{tabular}\n"
      ],
      "text/markdown": [
       "\n",
       "index | .actual | .fitted | .resid | \n",
       "|---|---|---|---|---|---|\n",
       "| 2013.000    | 93215       | 93121.79    |    93.21489 | \n",
       "| 2013.003    | 78504       | 88289.48    | -9785.47975 | \n",
       "| 2013.006    | 78494       | 77936.88    |   557.12084 | \n",
       "| 2013.008    | 93573       | 87083.80    |  6489.20206 | \n",
       "| 2013.011    | 90464       | 94070.82    | -3606.82270 | \n",
       "| 2013.014    | 75597       | 83874.82    | -8277.82478 | \n",
       "\n",
       "\n"
      ],
      "text/plain": [
       "  index    .actual .fitted  .resid     \n",
       "1 2013.000 93215   93121.79    93.21489\n",
       "2 2013.003 78504   88289.48 -9785.47975\n",
       "3 2013.006 78494   77936.88   557.12084\n",
       "4 2013.008 93573   87083.80  6489.20206\n",
       "5 2013.011 90464   94070.82 -3606.82270\n",
       "6 2013.014 75597   83874.82 -8277.82478"
      ]
     },
     "metadata": {},
     "output_type": "display_data"
    }
   ],
   "source": [
    "head(sw_augment(fit_arima))"
   ]
  },
  {
   "cell_type": "code",
   "execution_count": 36,
   "metadata": {},
   "outputs": [
    {
     "data": {},
     "metadata": {},
     "output_type": "display_data"
    },
    {
     "data": {
      "image/png": "[encoded data removed]",
      "text/plain": [
       "plot without title"
      ]
     },
     "metadata": {},
     "output_type": "display_data"
    }
   ],
   "source": [
    "sw_augment(fit_arima) %>%\n",
    "    ggplot(aes(x = index, y = .resid)) +\n",
    "    geom_point() + \n",
    "    geom_hline(yintercept = 0, color = \"red\") + \n",
    "    labs(title = \"Residual diagnostic\") +\n",
    "    theme_tq()"
   ]
  },
  {
   "cell_type": "markdown",
   "metadata": {},
   "source": [
    "#### Forecast"
   ]
  },
  {
   "cell_type": "code",
   "execution_count": 37,
   "metadata": {},
   "outputs": [],
   "source": [
    "fcast_arima <- forecast(fit_arima, h = 226)"
   ]
  },
  {
   "cell_type": "code",
   "execution_count": 38,
   "metadata": {},
   "outputs": [
    {
     "data": {
      "text/plain": [
       "$method\n",
       "[1] \"ARIMA(5,1,3)\"\n",
       "\n",
       "$model\n",
       "Series: train \n",
       "ARIMA(5,1,3) \n",
       "\n",
       "Coefficients:\n",
       "         ar1      ar2     ar3      ar4      ar5      ma1     ma2      ma3\n",
       "      0.1564  -0.9768  0.0521  -0.4349  -0.4041  -0.2753  0.6612  -0.4232\n",
       "s.e.  0.0356   0.0251  0.0489   0.0241   0.0306   0.0342  0.0197   0.0345\n",
       "\n",
       "sigma^2 estimated as 41947279:  log likelihood=-14790.88\n",
       "AIC=29599.75   AICc=29599.88   BIC=29647.27\n",
       "\n",
       "$level\n",
       "[1] 80 95\n",
       "\n",
       "$mean\n",
       "Time Series:\n",
       "Start = c(2017, 1) \n",
       "End = c(2017, 226) \n",
       "Frequency = 363 \n",
       "  [1] 132095.1 109661.2 104589.5 111992.0 115293.7 119474.5 128560.3 124899.9\n",
       "  [9] 111243.4 110004.3 117318.5 116880.9 117021.8 123909.9 122146.7 112384.7\n",
       " [17] 113055.0 119550.8 117386.2 115695.6 121537.4 120893.8 113315.2 114673.2\n",
       " [25] 120397.3 117490.2 115071.0 120302.7 120294.2 114007.7 115532.4 120613.3\n",
       " [33] 117480.5 114844.4 119634.4 119969.3 114514.7 115996.6 120556.0 117455.8\n",
       " [41] 114831.5 119246.8 119757.3 114893.4 116258.3 120389.6 117442.8 114926.6\n",
       " [49] 118998.8 119591.6 115187.5 116417.1 120188.0 117443.7 115071.0 118822.1\n",
       " [57] 119446.5 115426.1 116523.8 119982.6 117454.3 115233.8 118683.6 119312.6\n",
       " [65] 115627.2 116603.7 119786.1 117470.2 115399.0 118567.7 119187.1 115802.0\n",
       " [73] 116669.4 119602.8 117487.9 115559.0 118466.7 119069.1 115956.9 116726.8\n",
       " [81] 119433.5 117505.6 115710.3 118376.7 118958.5 116096.1 116779.0 119277.9\n",
       " [89] 117522.0 115851.8 118295.7 118855.1 116222.2 116827.3 119135.1 117536.7\n",
       " [97] 115983.1 118222.5 118758.8 116336.8 116872.5 119003.9 117549.6 116104.7\n",
       "[105] 118156.2 118669.1 116441.3 116914.9 118883.5 117560.6 116217.0 118096.0\n",
       "[113] 118585.8 116536.8 116954.8 118772.9 117569.8 116320.7 118041.5 118508.4\n",
       "[121] 116624.0 116992.3 118671.3 117577.5 116416.4 117992.2 118436.6 116703.7\n",
       "[129] 117027.6 118578.1 117583.8 116504.7 117947.4 118370.1 116776.5 117060.8\n",
       "[137] 118492.4 117588.8 116586.1 117906.9 118308.3 116843.1 117091.9 118413.8\n",
       "[145] 117592.7 116661.1 117870.2 118251.1 116903.9 117121.2 118341.5 117595.7\n",
       "[153] 116730.4 117837.0 118198.0 116959.6 117148.7 118275.2 117597.9 116794.2\n",
       "[161] 117807.0 118148.8 117010.4 117174.5 118214.3 117599.3 116853.0 117779.9\n",
       "[169] 118103.2 117056.8 117198.7 118158.4 117600.1 116907.3 117755.4 118061.0\n",
       "[177] 117099.2 117221.4 118107.0 117600.4 116957.3 117733.2 118021.9 117138.0\n",
       "[185] 117242.7 118059.9 117600.3 117003.3 117713.2 117985.6 117173.4 117262.6\n",
       "[193] 118016.7 117599.8 117045.8 117695.1 117952.0 117205.7 117281.2 117976.9\n",
       "[201] 117598.9 117084.9 117678.8 117921.0 117235.2 117298.7 117940.5 117597.8\n",
       "[209] 117121.0 117664.1 117892.2 117262.1 117315.0 117907.1 117596.5 117154.2\n",
       "[217] 117650.9 117865.5 117286.7 117330.3 117876.4 117595.0 117184.9 117638.9\n",
       "[225] 117840.9 117309.2\n",
       "\n",
       "$lower\n",
       "Time Series:\n",
       "Start = c(2017, 1) \n",
       "End = c(2017, 226) \n",
       "Frequency = 363 \n",
       "               80%       95%\n",
       "2017.000 123794.91 119401.06\n",
       "2017.003  98599.07  92743.10\n",
       "2017.006  92632.12  86302.27\n",
       "2017.008  99870.19  93453.31\n",
       "2017.011 103155.10  96729.30\n",
       "2017.014 107334.97 100908.67\n",
       "2017.017 116162.62 109599.66\n",
       "2017.019 111184.88 103924.57\n",
       "2017.022  96518.44  88723.54\n",
       "2017.025  94969.26  87010.16\n",
       "2017.028 102076.49  94007.87\n",
       "2017.030 101491.39  93344.68\n",
       "2017.033 101574.40  93397.06\n",
       "2017.036 108216.85  99909.42\n",
       "2017.039 105702.53  96997.52\n",
       "2017.041  95415.04  86431.87\n",
       "2017.044  95894.70  86810.58\n",
       "2017.047 102161.99  92956.92\n",
       "2017.050  99756.99  90424.63\n",
       "2017.052  97950.43  88556.70\n",
       "2017.055 103570.16  94058.86\n",
       "2017.058 102407.15  92620.92\n",
       "2017.061  94475.90  84502.99\n",
       "2017.063  95681.49  85627.91\n",
       "2017.066 101169.24  90990.54\n",
       "2017.069  97985.41  87660.22\n",
       "2017.072  95424.55  85024.34\n",
       "2017.074 100456.67  89950.83\n",
       "2017.077 100044.76  89325.37\n",
       "2017.080  93481.13  82615.04\n",
       "2017.083  94867.58  83928.28\n",
       "2017.085  99714.78  88651.74\n",
       "2017.088  96300.95  85089.18\n",
       "2017.091  93515.38  82224.48\n",
       "2017.094  98123.45  86736.22\n",
       "2017.096  98121.10  86555.34\n",
       "2017.099  92427.87  80735.82\n",
       "2017.102  93777.48  82015.38\n",
       "2017.105  98111.42  86229.99\n",
       "2017.107  94740.17  82715.24\n",
       "2017.110  91966.33  79862.22\n",
       "2017.113  96212.57  84019.00\n",
       "2017.116  96427.94  84078.11\n",
       "2017.118  91348.22  78884.14\n",
       "2017.121  92583.87  80051.39\n",
       "2017.124  96500.46  83854.29\n",
       "2017.127  93297.26  80515.39\n",
       "2017.129  90634.12  77774.47\n",
       "2017.132  94547.01  81603.01\n",
       "2017.135  94874.02  81789.31\n",
       "2017.138  90269.40  77078.54\n",
       "2017.140  91371.92  78113.80\n",
       "2017.143  94939.07  81573.09\n",
       "2017.146  91953.90  78460.41\n",
       "2017.149  89437.69  75868.23\n",
       "2017.152  93036.79  79386.88\n",
       "2017.154  93417.46  79638.52\n",
       "2017.157  89208.01  75329.00\n",
       "2017.160  90180.51  76235.20\n",
       "2017.163  93446.06  79398.45\n",
       "2017.165  90691.50  76524.11\n",
       "2017.168  88330.85  74089.30\n",
       "2017.171  91634.60  77315.71\n",
       "2017.174  92037.39  77598.76\n",
       "2017.176  88172.24  73638.44\n",
       "2017.179  89025.20  74426.01\n",
       "2017.182  92023.91  77327.50\n",
       "2017.185  89494.92  74685.70\n",
       "2017.187  87286.87  72405.20\n",
       "2017.190  90314.30  75357.85\n",
       "2017.193  90721.99  75653.49\n",
       "2017.196  87164.98  72005.47\n",
       "2017.198  87910.47  72686.42\n",
       "2017.201  90668.86  75352.18\n",
       "2017.204  88352.69  72929.42\n",
       "2017.207  86289.83  70795.67\n",
       "2017.209  89060.36  73493.60\n",
       "2017.212  89463.47  73791.19\n",
       "2017.215  86186.23  70426.57\n",
       "2017.218  86835.77  71012.40\n",
       "2017.220  89375.23  73463.33\n",
       "2017.223  87256.35  71243.37\n",
       "2017.226  85329.91  69247.48\n",
       "2017.229  87862.75  71709.64\n",
       "2017.231  88255.91  72002.93\n",
       "2017.234  85234.56  68897.44\n",
       "2017.237  85798.58  69398.55\n",
       "2017.240  88137.20  71652.29\n",
       "2017.242  86199.60  69618.51\n",
       "2017.245  84400.69  67751.49\n",
       "2017.248  86714.36  69996.19\n",
       "2017.251  87094.48  70281.40\n",
       "2017.253  84308.02  67413.70\n",
       "2017.256  84795.79  67839.35\n",
       "2017.259  86949.41  69911.37\n",
       "2017.262  85177.66  68047.79\n",
       "2017.264  83497.74  66301.02\n",
       "2017.267  85609.79  68345.66\n",
       "2017.270  85975.05  68620.39\n",
       "2017.273  83404.57  65971.30\n",
       "2017.275  83824.31  66329.68\n",
       "2017.278  85807.16  68233.87\n",
       "2017.281  84186.79  66525.60\n",
       "2017.284  82617.84  64890.97\n",
       "2017.287  84544.68  66751.83\n",
       "2017.289  84893.99  67014.52\n",
       "2017.292  82522.25  64566.59\n",
       "2017.295  82881.28  64864.99\n",
       "2017.298  84706.32  66614.03\n",
       "2017.300  83224.01  65047.33\n",
       "2017.303  81758.52  63517.29\n",
       "2017.306  83515.40  65209.52\n",
       "2017.309  83848.13  65459.12\n",
       "2017.311  81659.34  63196.35\n",
       "2017.314  81964.18  63441.29\n",
       "2017.317  83643.31  65046.84\n",
       "2017.320  82286.85  63609.17\n",
       "2017.322  80917.82  62176.66\n",
       "2017.325  82518.83  63714.25\n",
       "2017.328  82834.67  63950.12\n",
       "2017.331  80814.30  61857.81\n",
       "2017.333  81070.80  62055.12\n",
       "2017.336  82615.02  63527.96\n",
       "2017.339  81373.23  62207.86\n",
       "2017.342  80094.15  60866.31\n",
       "2017.344  81552.28  62262.17\n",
       "2017.347  81851.11  62483.90\n",
       "2017.350  79985.80  60548.53\n",
       "2017.353  80199.22  60703.47\n",
       "2017.355  81618.69  62053.56\n",
       "2017.358  80481.40  60840.60\n",
       "2017.361  79286.17  59583.88\n",
       "2017.364  80613.35  60849.89\n",
       "2017.366  80895.25  61057.28\n",
       "2017.369  79172.69  59266.43\n",
       "2017.372  79347.74  59383.68\n",
       "2017.375  80651.87  60620.29\n",
       "2017.377  79609.82  59504.96\n",
       "2017.380  78492.74  58327.35\n",
       "2017.383  79699.95  59474.42\n",
       "2017.386  79965.10  59667.43\n",
       "2017.388  78373.97  58009.65\n",
       "2017.391  78514.90  58093.44\n",
       "2017.394  79712.41  59225.14\n",
       "2017.397  78757.12  58198.80\n",
       "2017.399  77712.91  57094.96\n",
       "2017.402  78810.23  58133.11\n",
       "2017.405  79058.90  58311.83\n",
       "2017.408  77588.77  56776.57\n",
       "2017.410  77699.39  56830.72\n",
       "2017.413  78798.36  57865.46\n",
       "2017.416  77922.14  56920.22\n",
       "2017.419  76945.83  55885.16\n",
       "2017.421  77942.50  56823.60\n",
       "2017.424  78175.06  56988.20\n",
       "2017.427  76816.33  55565.78\n",
       "2017.430  76900.06  55593.69\n",
       "2017.433  77907.97  56538.85\n",
       "2017.435  77103.80  55667.54\n",
       "2017.438  76190.76  54696.60\n",
       "2017.441  77095.27  55543.76\n",
       "2017.444  77312.14  55694.53\n",
       "2017.446  76055.97  54376.01\n",
       "2017.449  76115.89  54380.74\n",
       "2017.452  77039.68  55243.14\n",
       "2017.455  76301.14  54439.22\n",
       "2017.457  75447.06  53528.06\n",
       "2017.460  76267.20  54291.70\n",
       "2017.463  76468.85  54428.95\n",
       "2017.466  75307.09  53206.11\n",
       "2017.468  75345.96  53190.43\n",
       "2017.471  76192.05  53976.41\n",
       "2017.474  75513.32  53233.92\n",
       "2017.477  74714.15  52378.47\n",
       "2017.479  75457.06  53065.69\n",
       "2017.482  75644.00  53189.81\n",
       "2017.485  74569.15  52055.09\n",
       "2017.488  74589.46  52021.46\n",
       "2017.490  75363.78  52736.86\n",
       "2017.493  74739.55  52050.38\n",
       "2017.496  73991.54  51246.86\n",
       "2017.499  74663.76  51864.18\n",
       "2017.501  74836.51  51975.58\n",
       "2017.504  73841.68  50922.00\n",
       "2017.507  73845.64  50872.63\n",
       "2017.510  74553.71  51522.91\n",
       "2017.512  73979.13  50887.48\n",
       "2017.515  73278.75  50132.35\n",
       "2017.518  73886.30  50685.74\n",
       "2017.521  74045.41  50784.87\n",
       "2017.523  73124.23  49806.03\n",
       "2017.526  73113.84  49742.91\n",
       "2017.529  73760.73  50333.07\n",
       "2017.532  73231.39  49744.19\n",
       "2017.534  72575.37  49034.14\n",
       "2017.537  73123.76  49529.09\n",
       "2017.540  73269.78  49616.42\n",
       "2017.543  72416.42  48706.41\n",
       "2017.545  72393.45  48631.30\n",
       "2017.548  72983.88  49165.99\n",
       "2017.551  72495.74  48619.56\n",
       "2017.554  71881.03  47951.52\n",
       "2017.556  72375.29  48393.05\n",
       "2017.559  72508.80  48469.06\n",
       "2017.562  71717.86  47622.44\n",
       "2017.565  71683.92  47536.92\n",
       "2017.567  72222.24  48020.46\n",
       "2017.570  71771.64  47512.73\n",
       "2017.573  71195.38  46883.82\n",
       "2017.576  71640.15  47276.53\n",
       "2017.579  71761.70  47341.71\n",
       "2017.581  71028.23  46553.47\n",
       "2017.584  70984.73  46458.96\n",
       "2017.587  71474.98  46895.32\n",
       "2017.590  71058.58  46422.88\n",
       "2017.592  70518.11  45830.44\n",
       "2017.595  70917.63  46178.54\n",
       "2017.598  71027.78  46233.38\n",
       "2017.601  70347.21  45498.93\n",
       "2017.603  70295.43  45396.68\n",
       "2017.606  70741.33  45789.54\n",
       "2017.609  70356.08  45349.29\n",
       "2017.612  69848.93  44790.80\n",
       "2017.614  70207.08  45098.17\n",
       "2017.617  70306.39  45143.16\n",
       "2017.620  69674.51  44458.24\n",
       "\n",
       "$upper\n",
       "Time Series:\n",
       "Start = c(2017, 1) \n",
       "End = c(2017, 226) \n",
       "Frequency = 363 \n",
       "              80%      95%\n",
       "2017.000 140395.3 144789.1\n",
       "2017.003 120723.4 126579.4\n",
       "2017.006 116546.9 122876.7\n",
       "2017.008 124113.8 130530.7\n",
       "2017.011 127432.3 133858.1\n",
       "2017.014 131614.1 138040.4\n",
       "2017.017 140958.1 147521.0\n",
       "2017.019 138615.0 145875.3\n",
       "2017.022 125968.3 133763.2\n",
       "2017.025 125039.4 132998.5\n",
       "2017.028 132560.5 140629.1\n",
       "2017.030 132270.4 140417.1\n",
       "2017.033 132469.1 140646.4\n",
       "2017.036 139603.1 147910.5\n",
       "2017.039 138590.8 147295.8\n",
       "2017.041 129354.3 138337.4\n",
       "2017.044 130215.3 139299.4\n",
       "2017.047 136939.6 146144.6\n",
       "2017.050 135015.5 144347.9\n",
       "2017.052 133440.8 142834.5\n",
       "2017.055 139504.7 149016.0\n",
       "2017.058 139380.4 149166.6\n",
       "2017.061 132154.4 142127.3\n",
       "2017.063 133664.8 143718.4\n",
       "2017.066 139625.3 149804.0\n",
       "2017.069 136994.9 147320.1\n",
       "2017.072 134717.5 145117.7\n",
       "2017.074 140148.7 150654.5\n",
       "2017.077 140543.6 151263.0\n",
       "2017.080 134534.2 145400.3\n",
       "2017.083 136197.2 147136.5\n",
       "2017.085 141511.9 152574.9\n",
       "2017.088 138660.0 149871.8\n",
       "2017.091 136173.4 147464.3\n",
       "2017.094 141145.4 152532.6\n",
       "2017.096 141817.6 153383.3\n",
       "2017.099 136601.5 148293.6\n",
       "2017.102 138215.7 149977.8\n",
       "2017.105 143000.5 154881.9\n",
       "2017.107 140171.4 152196.4\n",
       "2017.110 137696.8 149800.9\n",
       "2017.113 142281.0 154474.5\n",
       "2017.116 143086.7 155436.5\n",
       "2017.118 138438.7 150902.7\n",
       "2017.121 139932.7 152465.2\n",
       "2017.124 144278.8 156925.0\n",
       "2017.127 141588.3 154370.2\n",
       "2017.129 139219.0 152078.7\n",
       "2017.132 143450.6 156394.6\n",
       "2017.135 144309.3 157394.0\n",
       "2017.138 140105.7 153296.5\n",
       "2017.140 141462.3 154720.4\n",
       "2017.143 145436.9 158802.9\n",
       "2017.146 142933.5 156427.0\n",
       "2017.149 140704.3 154273.8\n",
       "2017.152 144607.4 158257.3\n",
       "2017.154 145475.5 159254.4\n",
       "2017.157 141644.2 155523.2\n",
       "2017.160 142867.1 156812.4\n",
       "2017.163 146519.2 160566.8\n",
       "2017.165 144217.2 158384.6\n",
       "2017.168 142136.7 156378.2\n",
       "2017.171 145732.7 160051.6\n",
       "2017.174 146587.8 161026.4\n",
       "2017.176 143082.2 157616.0\n",
       "2017.179 144182.3 158781.5\n",
       "2017.182 147548.3 162244.7\n",
       "2017.185 145445.5 160254.7\n",
       "2017.187 143511.1 158392.8\n",
       "2017.190 146821.1 161777.6\n",
       "2017.193 147652.1 162720.6\n",
       "2017.196 144439.0 159598.5\n",
       "2017.198 145428.3 160652.4\n",
       "2017.201 148536.7 163853.3\n",
       "2017.204 146623.2 162046.5\n",
       "2017.207 144828.2 160322.3\n",
       "2017.209 147873.0 163439.7\n",
       "2017.212 148674.7 164347.0\n",
       "2017.215 145727.6 161487.3\n",
       "2017.218 146617.9 162441.2\n",
       "2017.220 149491.8 165403.7\n",
       "2017.223 147754.8 163767.8\n",
       "2017.226 146090.8 162173.2\n",
       "2017.229 148890.6 165043.8\n",
       "2017.231 149661.1 165914.1\n",
       "2017.234 146957.7 163294.8\n",
       "2017.237 147759.4 164159.4\n",
       "2017.240 150418.7 166903.6\n",
       "2017.242 148844.4 165425.5\n",
       "2017.245 147302.9 163952.1\n",
       "2017.248 149877.1 166595.2\n",
       "2017.251 150615.8 167428.9\n",
       "2017.253 148136.3 165030.6\n",
       "2017.256 148858.8 165815.2\n",
       "2017.259 151320.7 168358.7\n",
       "2017.262 149895.8 167025.7\n",
       "2017.264 148468.5 165665.2\n",
       "2017.267 150835.2 168099.3\n",
       "2017.270 151542.5 168897.2\n",
       "2017.273 149269.0 166702.3\n",
       "2017.275 149920.6 167415.2\n",
       "2017.278 152200.6 169773.9\n",
       "2017.281 150912.4 168573.5\n",
       "2017.284 149591.5 167318.4\n",
       "2017.287 151767.7 169560.5\n",
       "2017.289 152444.3 170323.7\n",
       "2017.292 150360.4 168316.1\n",
       "2017.295 150948.4 168964.7\n",
       "2017.298 153060.6 171152.9\n",
       "2017.300 151897.1 170073.8\n",
       "2017.303 150675.5 168916.8\n",
       "2017.306 152676.7 170982.6\n",
       "2017.309 153323.5 171712.5\n",
       "2017.311 151414.2 169877.2\n",
       "2017.314 151945.3 170468.2\n",
       "2017.317 153902.5 172498.9\n",
       "2017.320 152852.8 171530.5\n",
       "2017.322 151723.6 170464.8\n",
       "2017.325 153564.2 172368.8\n",
       "2017.328 154182.2 173066.8\n",
       "2017.331 152433.6 171390.1\n",
       "2017.333 152913.7 171929.4\n",
       "2017.336 154727.7 173814.7\n",
       "2017.339 153781.7 172947.1\n",
       "2017.342 152738.7 171966.5\n",
       "2017.344 154432.0 173722.1\n",
       "2017.347 155022.2 174389.4\n",
       "2017.350 153421.5 172858.8\n",
       "2017.353 153855.9 173351.7\n",
       "2017.355 155537.5 175102.6\n",
       "2017.358 154686.1 174326.9\n",
       "2017.361 153723.2 173425.5\n",
       "2017.364 155281.5 175044.9\n",
       "2017.366 155844.9 175682.8\n",
       "2017.369 154380.3 174286.6\n",
       "2017.372 154773.8 174737.8\n",
       "2017.375 156333.0 176364.6\n",
       "2017.377 155567.8 175672.6\n",
       "2017.380 154679.4 174844.8\n",
       "2017.383 156113.8 176339.4\n",
       "2017.386 156651.5 176949.2\n",
       "2017.388 155312.2 175676.5\n",
       "2017.391 155669.0 176090.5\n",
       "2017.394 157115.1 177602.4\n",
       "2017.397 156428.3 176986.6\n",
       "2017.399 155609.4 176227.3\n",
       "2017.402 156930.2 177607.3\n",
       "2017.405 157443.2 178190.3\n",
       "2017.408 156219.1 177031.3\n",
       "2017.410 156543.1 177411.8\n",
       "2017.413 157884.7 178817.6\n",
       "2017.416 157269.3 178271.2\n",
       "2017.419 156514.9 177575.6\n",
       "2017.421 157731.6 178850.5\n",
       "2017.424 158220.9 179407.8\n",
       "2017.427 157102.8 178353.3\n",
       "2017.430 157397.4 178703.8\n",
       "2017.433 158642.5 180011.6\n",
       "2017.435 158091.9 179528.2\n",
       "2017.438 157397.6 178891.8\n",
       "2017.441 158518.8 180070.3\n",
       "2017.444 158985.4 180603.1\n",
       "2017.446 157964.8 179644.8\n",
       "2017.449 158233.2 179968.3\n",
       "2017.452 159388.9 181185.5\n",
       "2017.455 158897.4 180759.4\n",
       "2017.457 158259.0 180178.0\n",
       "2017.460 159292.6 181268.1\n",
       "2017.463 159737.6 181777.5\n",
       "2017.466 158806.5 180907.5\n",
       "2017.468 159051.5 181207.1\n",
       "2017.471 160124.7 182340.4\n",
       "2017.474 159686.9 181966.3\n",
       "2017.477 159100.4 181436.1\n",
       "2017.479 160053.7 182445.0\n",
       "2017.482 160478.0 182932.2\n",
       "2017.485 159629.3 182143.4\n",
       "2017.488 159853.4 182421.4\n",
       "2017.490 160850.3 183477.2\n",
       "2017.493 160461.3 183150.5\n",
       "2017.496 159923.0 182667.7\n",
       "2017.499 160802.6 183602.2\n",
       "2017.501 161207.2 184068.1\n",
       "2017.504 160434.3 183354.0\n",
       "2017.507 160639.7 183612.7\n",
       "2017.510 161566.1 184596.9\n",
       "2017.512 161221.4 184313.1\n",
       "2017.515 160727.9 183874.3\n",
       "2017.518 161540.1 184740.6\n",
       "2017.521 161925.8 185186.3\n",
       "2017.523 161222.5 184540.7\n",
       "2017.526 161411.3 184782.3\n",
       "2017.529 162272.6 185700.2\n",
       "2017.532 161968.1 185455.3\n",
       "2017.534 161516.3 185057.5\n",
       "2017.537 162266.5 185861.2\n",
       "2017.540 162634.3 186287.7\n",
       "2017.543 161995.0 185705.0\n",
       "2017.545 162169.0 185931.2\n",
       "2017.548 162970.0 186787.9\n",
       "2017.551 162702.1 186578.3\n",
       "2017.554 162288.9 186218.4\n",
       "2017.556 162982.4 186964.6\n",
       "2017.559 163333.1 187372.9\n",
       "2017.562 162752.5 186848.0\n",
       "2017.565 162913.5 187060.5\n",
       "2017.567 163658.8 187860.5\n",
       "2017.570 163424.0 187682.9\n",
       "2017.573 163046.6 187358.2\n",
       "2017.576 163688.1 188051.7\n",
       "2017.579 164022.6 188442.6\n",
       "2017.581 163496.0 187970.8\n",
       "2017.584 163645.3 188171.1\n",
       "2017.587 164339.1 188918.8\n",
       "2017.590 164134.4 188770.1\n",
       "2017.592 163790.4 188478.0\n",
       "2017.595 164384.1 189123.2\n",
       "2017.598 164703.3 189497.7\n",
       "2017.601 164226.3 189074.5\n",
       "2017.603 164365.1 189263.9\n",
       "2017.606 165011.4 189963.2\n",
       "2017.609 164834.0 189840.8\n",
       "2017.612 164520.8 189578.9\n",
       "2017.614 165070.8 190179.7\n",
       "2017.617 165375.3 190538.5\n",
       "2017.620 164943.8 190160.1\n"
      ]
     },
     "metadata": {},
     "output_type": "display_data"
    }
   ],
   "source": [
    "head(fcast_arima)"
   ]
  },
  {
   "cell_type": "code",
   "execution_count": 39,
   "metadata": {},
   "outputs": [
    {
     "data": {
      "text/html": [
       "<table>\n",
       "<thead><tr><th></th><th scope=col>index</th><th scope=col>key</th><th scope=col>value</th><th scope=col>lo.80</th><th scope=col>lo.95</th><th scope=col>hi.80</th><th scope=col>hi.95</th><th scope=col>date</th></tr></thead>\n",
       "<tbody>\n",
       "\t<tr><th scope=row>221</th><td>2017.606  </td><td>forecast  </td><td>117876.4  </td><td>70741.33  </td><td>45789.54  </td><td>165011.4  </td><td>189963.2  </td><td>2017-08-10</td></tr>\n",
       "\t<tr><th scope=row>222</th><td>2017.609  </td><td>forecast  </td><td>117595.0  </td><td>70356.08  </td><td>45349.29  </td><td>164834.0  </td><td>189840.8  </td><td>2017-08-11</td></tr>\n",
       "\t<tr><th scope=row>223</th><td>2017.612  </td><td>forecast  </td><td>117184.9  </td><td>69848.93  </td><td>44790.80  </td><td>164520.8  </td><td>189578.9  </td><td>2017-08-12</td></tr>\n",
       "\t<tr><th scope=row>224</th><td>2017.614  </td><td>forecast  </td><td>117638.9  </td><td>70207.08  </td><td>45098.17  </td><td>165070.8  </td><td>190179.7  </td><td>2017-08-13</td></tr>\n",
       "\t<tr><th scope=row>225</th><td>2017.617  </td><td>forecast  </td><td>117840.9  </td><td>70306.39  </td><td>45143.16  </td><td>165375.3  </td><td>190538.5  </td><td>2017-08-14</td></tr>\n",
       "\t<tr><th scope=row>226</th><td>2017.620  </td><td>forecast  </td><td>117309.2  </td><td>69674.51  </td><td>44458.24  </td><td>164943.8  </td><td>190160.1  </td><td>2017-08-15</td></tr>\n",
       "</tbody>\n",
       "</table>\n"
      ],
      "text/latex": [
       "\\begin{tabular}{r|llllllll}\n",
       "  & index & key & value & lo.80 & lo.95 & hi.80 & hi.95 & date\\\\\n",
       "\\hline\n",
       "\t221 & 2017.606   & forecast   & 117876.4   & 70741.33   & 45789.54   & 165011.4   & 189963.2   & 2017-08-10\\\\\n",
       "\t222 & 2017.609   & forecast   & 117595.0   & 70356.08   & 45349.29   & 164834.0   & 189840.8   & 2017-08-11\\\\\n",
       "\t223 & 2017.612   & forecast   & 117184.9   & 69848.93   & 44790.80   & 164520.8   & 189578.9   & 2017-08-12\\\\\n",
       "\t224 & 2017.614   & forecast   & 117638.9   & 70207.08   & 45098.17   & 165070.8   & 190179.7   & 2017-08-13\\\\\n",
       "\t225 & 2017.617   & forecast   & 117840.9   & 70306.39   & 45143.16   & 165375.3   & 190538.5   & 2017-08-14\\\\\n",
       "\t226 & 2017.620   & forecast   & 117309.2   & 69674.51   & 44458.24   & 164943.8   & 190160.1   & 2017-08-15\\\\\n",
       "\\end{tabular}\n"
      ],
      "text/markdown": [
       "\n",
       "| <!--/--> | index | key | value | lo.80 | lo.95 | hi.80 | hi.95 | date | \n",
       "|---|---|---|---|---|---|\n",
       "| 221 | 2017.606   | forecast   | 117876.4   | 70741.33   | 45789.54   | 165011.4   | 189963.2   | 2017-08-10 | \n",
       "| 222 | 2017.609   | forecast   | 117595.0   | 70356.08   | 45349.29   | 164834.0   | 189840.8   | 2017-08-11 | \n",
       "| 223 | 2017.612   | forecast   | 117184.9   | 69848.93   | 44790.80   | 164520.8   | 189578.9   | 2017-08-12 | \n",
       "| 224 | 2017.614   | forecast   | 117638.9   | 70207.08   | 45098.17   | 165070.8   | 190179.7   | 2017-08-13 | \n",
       "| 225 | 2017.617   | forecast   | 117840.9   | 70306.39   | 45143.16   | 165375.3   | 190538.5   | 2017-08-14 | \n",
       "| 226 | 2017.620   | forecast   | 117309.2   | 69674.51   | 44458.24   | 164943.8   | 190160.1   | 2017-08-15 | \n",
       "\n",
       "\n"
      ],
      "text/plain": [
       "    index    key      value    lo.80    lo.95    hi.80    hi.95    date      \n",
       "221 2017.606 forecast 117876.4 70741.33 45789.54 165011.4 189963.2 2017-08-10\n",
       "222 2017.609 forecast 117595.0 70356.08 45349.29 164834.0 189840.8 2017-08-11\n",
       "223 2017.612 forecast 117184.9 69848.93 44790.80 164520.8 189578.9 2017-08-12\n",
       "224 2017.614 forecast 117638.9 70207.08 45098.17 165070.8 190179.7 2017-08-13\n",
       "225 2017.617 forecast 117840.9 70306.39 45143.16 165375.3 190538.5 2017-08-14\n",
       "226 2017.620 forecast 117309.2 69674.51 44458.24 164943.8 190160.1 2017-08-15"
      ]
     },
     "metadata": {},
     "output_type": "display_data"
    },
    {
     "data": {
      "text/html": [
       "<table>\n",
       "<thead><tr><th scope=col>date</th><th scope=col>total</th></tr></thead>\n",
       "<tbody>\n",
       "\t<tr><td>2017-08-10</td><td>83064     </td></tr>\n",
       "\t<tr><td>2017-08-11</td><td>89551     </td></tr>\n",
       "\t<tr><td>2017-08-12</td><td>89927     </td></tr>\n",
       "\t<tr><td>2017-08-13</td><td>85993     </td></tr>\n",
       "\t<tr><td>2017-08-14</td><td>85448     </td></tr>\n",
       "\t<tr><td>2017-08-15</td><td>86561     </td></tr>\n",
       "</tbody>\n",
       "</table>\n"
      ],
      "text/latex": [
       "\\begin{tabular}{r|ll}\n",
       " date & total\\\\\n",
       "\\hline\n",
       "\t 2017-08-10 & 83064     \\\\\n",
       "\t 2017-08-11 & 89551     \\\\\n",
       "\t 2017-08-12 & 89927     \\\\\n",
       "\t 2017-08-13 & 85993     \\\\\n",
       "\t 2017-08-14 & 85448     \\\\\n",
       "\t 2017-08-15 & 86561     \\\\\n",
       "\\end{tabular}\n"
      ],
      "text/markdown": [
       "\n",
       "date | total | \n",
       "|---|---|---|---|---|---|\n",
       "| 2017-08-10 | 83064      | \n",
       "| 2017-08-11 | 89551      | \n",
       "| 2017-08-12 | 89927      | \n",
       "| 2017-08-13 | 85993      | \n",
       "| 2017-08-14 | 85448      | \n",
       "| 2017-08-15 | 86561      | \n",
       "\n",
       "\n"
      ],
      "text/plain": [
       "  date       total\n",
       "1 2017-08-10 83064\n",
       "2 2017-08-11 89551\n",
       "3 2017-08-12 89927\n",
       "4 2017-08-13 85993\n",
       "5 2017-08-14 85448\n",
       "6 2017-08-15 86561"
      ]
     },
     "metadata": {},
     "output_type": "display_data"
    }
   ],
   "source": [
    "fcast_tbl <- sw_sweep(fcast_arima) %>%\n",
    "  filter(key == \"forecast\") %>%\n",
    "  as.data.frame() %>%\n",
    "  mutate(date =  seq(ymd('2017-01-02'),ymd('2017-08-15'), by = 'days'))\n",
    "tail(fcast_tbl)\n",
    "\n",
    "actual_tbl <- transData %>%\n",
    "  filter(date > '2017-01-01')\n",
    "  \n",
    "tail(actual_tbl)\n",
    "  "
   ]
  },
  {
   "cell_type": "markdown",
   "metadata": {},
   "source": [
    "#### Very bad results.  Check how to run ARIMA model"
   ]
  },
  {
   "cell_type": "code",
   "execution_count": 40,
   "metadata": {},
   "outputs": [
    {
     "data": {},
     "metadata": {},
     "output_type": "display_data"
    },
    {
     "data": {
      "image/png": "[encoded data removed]",
      "text/plain": [
       "plot without title"
      ]
     },
     "metadata": {},
     "output_type": "display_data"
    }
   ],
   "source": [
    "# Visualize the forecast with ggplot\n",
    "fcast_tbl  %>%\n",
    "    ggplot(aes(x = date, y = value, color = \"red\")) +\n",
    "    #geom_ribbon(aes(ymin = lo.95, ymax = hi.95), \n",
    "    #            fill = \"#D5DBFF\", color = NA, size = 0) +\n",
    "    geom_line() +\n",
    "    geom_point() +\n",
    "    geom_line(aes(x = date, y = total), data = actual_tbl, color = \"sky blue\")\n",
    "    \n",
    "\n"
   ]
  },
  {
   "cell_type": "markdown",
   "metadata": {},
   "source": [
    "### autocorrelation function or ACF. The plot is also known as a correlogram"
   ]
  },
  {
   "cell_type": "markdown",
   "metadata": {},
   "source": [
    "When data are seasonal, the autocorrelations will be larger for the seasonal lags (at multiples of the seasonal frequency) than for other lags."
   ]
  },
  {
   "cell_type": "code",
   "execution_count": 41,
   "metadata": {},
   "outputs": [
    {
     "data": {},
     "metadata": {},
     "output_type": "display_data"
    },
    {
     "data": {},
     "metadata": {},
     "output_type": "display_data"
    },
    {
     "data": {
      "image/png": "[encoded data removed]",
      "text/plain": [
       "plot without title"
      ]
     },
     "metadata": {},
     "output_type": "display_data"
    },
    {
     "data": {},
     "metadata": {},
     "output_type": "display_data"
    },
    {
     "data": {
      "image/png": "[encoded data removed]",
      "text/plain": [
       "plot without title"
      ]
     },
     "metadata": {},
     "output_type": "display_data"
    },
    {
     "data": {
      "image/png": "[encoded data removed]",
      "text/plain": [
       "plot without title"
      ]
     },
     "metadata": {},
     "output_type": "display_data"
    }
   ],
   "source": [
    "ggAcf(train, lag = 363)\n",
    "ggAcf(train, lag = 30)\n",
    "ggAcf(train, lag = 7)"
   ]
  },
  {
   "cell_type": "markdown",
   "metadata": {
    "collapsed": true
   },
   "source": [
    "## Prophet Package\n",
    "https://research.fb.com/prophet-forecasting-at-scale/"
   ]
  },
  {
   "cell_type": "code",
   "execution_count": 42,
   "metadata": {},
   "outputs": [],
   "source": [
    "library(prophet)"
   ]
  },
  {
   "cell_type": "markdown",
   "metadata": {},
   "source": [
    "Prophet takes ds for time-series, and y for the predicted variable"
   ]
  },
  {
   "cell_type": "markdown",
   "metadata": {},
   "source": [
    "###  Baseline Performance"
   ]
  },
  {
   "cell_type": "markdown",
   "metadata": {},
   "source": [
    "The input to Prophet is always a dataframe with two columns: ds and y. The ds (datestamp) column must contain a date or datetime (either is fine). The y column must be numeric, and represents the measurement we wish to forecast.\n",
    " \n",
    "Outliers should be removed. "
   ]
  },
  {
   "cell_type": "code",
   "execution_count": 43,
   "metadata": {},
   "outputs": [],
   "source": [
    "library(prophet)"
   ]
  },
  {
   "cell_type": "code",
   "execution_count": 44,
   "metadata": {},
   "outputs": [
    {
     "data": {
      "text/html": [
       "<table>\n",
       "<thead><tr><th scope=col>ds</th><th scope=col>y</th></tr></thead>\n",
       "<tbody>\n",
       "\t<tr><td>2013-01-02</td><td>93215     </td></tr>\n",
       "\t<tr><td>2013-01-03</td><td>78504     </td></tr>\n",
       "\t<tr><td>2013-01-04</td><td>78494     </td></tr>\n",
       "\t<tr><td>2013-01-05</td><td>93573     </td></tr>\n",
       "\t<tr><td>2013-01-06</td><td>90464     </td></tr>\n",
       "\t<tr><td>2013-01-07</td><td>75597     </td></tr>\n",
       "</tbody>\n",
       "</table>\n"
      ],
      "text/latex": [
       "\\begin{tabular}{r|ll}\n",
       " ds & y\\\\\n",
       "\\hline\n",
       "\t 2013-01-02 & 93215     \\\\\n",
       "\t 2013-01-03 & 78504     \\\\\n",
       "\t 2013-01-04 & 78494     \\\\\n",
       "\t 2013-01-05 & 93573     \\\\\n",
       "\t 2013-01-06 & 90464     \\\\\n",
       "\t 2013-01-07 & 75597     \\\\\n",
       "\\end{tabular}\n"
      ],
      "text/markdown": [
       "\n",
       "ds | y | \n",
       "|---|---|---|---|---|---|\n",
       "| 2013-01-02 | 93215      | \n",
       "| 2013-01-03 | 78504      | \n",
       "| 2013-01-04 | 78494      | \n",
       "| 2013-01-05 | 93573      | \n",
       "| 2013-01-06 | 90464      | \n",
       "| 2013-01-07 | 75597      | \n",
       "\n",
       "\n"
      ],
      "text/plain": [
       "  ds         y    \n",
       "1 2013-01-02 93215\n",
       "2 2013-01-03 78504\n",
       "3 2013-01-04 78494\n",
       "4 2013-01-05 93573\n",
       "5 2013-01-06 90464\n",
       "6 2013-01-07 75597"
      ]
     },
     "metadata": {},
     "output_type": "display_data"
    }
   ],
   "source": [
    "transData <- transactions %>%\n",
    "  select(date, transactions) %>%\n",
    "  group_by(date) %>%\n",
    "  summarize(total = sum(transactions)) %>%\n",
    "  ungroup() %>%\n",
    "  rename(y = total, ds = date) %>%\n",
    "  filter(y > 50000)\n",
    "head(transData)"
   ]
  },
  {
   "cell_type": "code",
   "execution_count": 45,
   "metadata": {},
   "outputs": [
    {
     "name": "stderr",
     "output_type": "stream",
     "text": [
      "Disabling daily seasonality. Run prophet with daily.seasonality=TRUE to override this.\n"
     ]
    },
    {
     "name": "stdout",
     "output_type": "stream",
     "text": [
      "Initial log joint probability = -7.11134\n",
      "Optimization terminated normally: \n",
      "  Convergence detected: relative gradient magnitude is below tolerance\n"
     ]
    }
   ],
   "source": [
    "m <- prophet(transData)"
   ]
  },
  {
   "cell_type": "markdown",
   "metadata": {},
   "source": [
    "This cross validation procedure can be done automatically for a range of historical cutoffs using the cross_validation function. We specify the forecast horizon (horizon), and then optionally the size of the initial training period (initial) and the spacing between cutoff dates (period). By default, the initial training period is set to three times the horizon, and cutoffs are made every half a horizon."
   ]
  },
  {
   "cell_type": "code",
   "execution_count": 46,
   "metadata": {},
   "outputs": [
    {
     "name": "stdout",
     "output_type": "stream",
     "text": [
      "Initial log joint probability = -30.6758\n",
      "Optimization terminated normally: \n",
      "  Convergence detected: relative gradient magnitude is below tolerance\n"
     ]
    },
    {
     "name": "stderr",
     "output_type": "stream",
     "text": [
      "Warning message:\n",
      "\"Unknown or uninitialised column: 'y'.\""
     ]
    }
   ],
   "source": [
    "df.cv <- cross_validation(m, horizon = 227, units = 'days', period = 227, initial = 1440);"
   ]
  },
  {
   "cell_type": "code",
   "execution_count": 47,
   "metadata": {},
   "outputs": [
    {
     "data": {},
     "metadata": {},
     "output_type": "display_data"
    },
    {
     "data": {
      "image/png": "[encoded data removed]",
      "text/plain": [
       "plot without title"
      ]
     },
     "metadata": {},
     "output_type": "display_data"
    }
   ],
   "source": [
    "ggplot() + \n",
    "  # forecast\n",
    "  geom_line(data = df.cv, aes(x = ds, y = yhat, color = \"red\")) +\n",
    "  \n",
    "  geom_line(data = df.cv, aes(x = ds, y = y, color = \"sky blue\")) +\n",
    "  xlab('2017') +\n",
    "  ylab('# of transactions') +\n",
    "  scale_color_discrete(name = \"\", labels = c(\"forecast\", \"actual\"))\n",
    "  "
   ]
  },
  {
   "cell_type": "markdown",
   "metadata": {},
   "source": [
    "RMSE for 2017"
   ]
  },
  {
   "cell_type": "code",
   "execution_count": 48,
   "metadata": {},
   "outputs": [
    {
     "name": "stdout",
     "output_type": "stream",
     "text": [
      "[1] 4155.578\n"
     ]
    }
   ],
   "source": [
    "rmse = sqrt(mean(df.cv$y - df.cv$yhat)^2)\n",
    "print(rmse)"
   ]
  },
  {
   "cell_type": "code",
   "execution_count": 49,
   "metadata": {},
   "outputs": [],
   "source": [
    "future <- make_future_dataframe(m, periods = 227)\n",
    "forecast <- predict(m, future)"
   ]
  },
  {
   "cell_type": "code",
   "execution_count": 50,
   "metadata": {},
   "outputs": [
    {
     "data": {},
     "metadata": {},
     "output_type": "display_data"
    },
    {
     "data": {
      "image/png": "[encoded data removed]",
      "text/plain": [
       "plot without title"
      ]
     },
     "metadata": {},
     "output_type": "display_data"
    }
   ],
   "source": [
    "plot(m, forecast)"
   ]
  },
  {
   "cell_type": "code",
   "execution_count": 51,
   "metadata": {},
   "outputs": [
    {
     "data": {
      "image/png": "[encoded data removed]",
      "text/plain": [
       "plot without title"
      ]
     },
     "metadata": {},
     "output_type": "display_data"
    }
   ],
   "source": [
    "prophet_plot_components(m, forecast)"
   ]
  },
  {
   "cell_type": "markdown",
   "metadata": {},
   "source": [
    "### Add Holidays"
   ]
  },
  {
   "cell_type": "markdown",
   "metadata": {},
   "source": [
    "Load holidays for customization.   Filter to keep National holidays only.  Keep first instance of a date if multiple rows of the same date are present.\n",
    "\n",
    "The holidays dataframe should have two columns (holiday and ds) and a row for each occurrence of the holiday. It must include all occurrences of the holiday, both in the past (back as far as the historical data go) and in the future (out as far as the forecast is being made)."
   ]
  },
  {
   "cell_type": "code",
   "execution_count": 52,
   "metadata": {},
   "outputs": [
    {
     "data": {
      "text/html": [
       "<table>\n",
       "<thead><tr><th scope=col>holiday</th><th scope=col>ds</th></tr></thead>\n",
       "<tbody>\n",
       "\t<tr><td>Primer Grito de Independencia      </td><td>2012-08-10                         </td></tr>\n",
       "\t<tr><td>Independencia de Guayaquil         </td><td>2012-10-09                         </td></tr>\n",
       "\t<tr><td>Traslado Independencia de Guayaquil</td><td>2012-10-12                         </td></tr>\n",
       "\t<tr><td>Dia de Difuntos                    </td><td>2012-11-02                         </td></tr>\n",
       "\t<tr><td>Independencia de Cuenca            </td><td>2012-11-03                         </td></tr>\n",
       "\t<tr><td>Navidad-4                          </td><td>2012-12-21                         </td></tr>\n",
       "</tbody>\n",
       "</table>\n"
      ],
      "text/latex": [
       "\\begin{tabular}{r|ll}\n",
       " holiday & ds\\\\\n",
       "\\hline\n",
       "\t Primer Grito de Independencia       & 2012-08-10                         \\\\\n",
       "\t Independencia de Guayaquil          & 2012-10-09                         \\\\\n",
       "\t Traslado Independencia de Guayaquil & 2012-10-12                         \\\\\n",
       "\t Dia de Difuntos                     & 2012-11-02                         \\\\\n",
       "\t Independencia de Cuenca             & 2012-11-03                         \\\\\n",
       "\t Navidad-4                           & 2012-12-21                         \\\\\n",
       "\\end{tabular}\n"
      ],
      "text/markdown": [
       "\n",
       "holiday | ds | \n",
       "|---|---|---|---|---|---|\n",
       "| Primer Grito de Independencia       | 2012-08-10                          | \n",
       "| Independencia de Guayaquil          | 2012-10-09                          | \n",
       "| Traslado Independencia de Guayaquil | 2012-10-12                          | \n",
       "| Dia de Difuntos                     | 2012-11-02                          | \n",
       "| Independencia de Cuenca             | 2012-11-03                          | \n",
       "| Navidad-4                           | 2012-12-21                          | \n",
       "\n",
       "\n"
      ],
      "text/plain": [
       "  holiday                             ds        \n",
       "1 Primer Grito de Independencia       2012-08-10\n",
       "2 Independencia de Guayaquil          2012-10-09\n",
       "3 Traslado Independencia de Guayaquil 2012-10-12\n",
       "4 Dia de Difuntos                     2012-11-02\n",
       "5 Independencia de Cuenca             2012-11-03\n",
       "6 Navidad-4                           2012-12-21"
      ]
     },
     "metadata": {},
     "output_type": "display_data"
    }
   ],
   "source": [
    "holidays <- readRDS('holidays.rds')\n",
    "holidays <- holidays %>%\n",
    "  filter(locale == \"National\" ) %>%\n",
    "  distinct(date, .keep_all = TRUE) %>%\n",
    "  select(description, date) %>%\n",
    "  rename(holiday = description, ds = date)\n",
    "  \n",
    "head(holidays)"
   ]
  },
  {
   "cell_type": "code",
   "execution_count": 53,
   "metadata": {},
   "outputs": [
    {
     "name": "stderr",
     "output_type": "stream",
     "text": [
      "Disabling daily seasonality. Run prophet with daily.seasonality=TRUE to override this.\n"
     ]
    },
    {
     "name": "stdout",
     "output_type": "stream",
     "text": [
      "Initial log joint probability = -7.11134\n",
      "Optimization terminated normally: \n",
      "  Convergence detected: relative gradient magnitude is below tolerance\n"
     ]
    }
   ],
   "source": [
    "m <- prophet(transData, holidays = holidays)"
   ]
  },
  {
   "cell_type": "code",
   "execution_count": 54,
   "metadata": {},
   "outputs": [
    {
     "name": "stdout",
     "output_type": "stream",
     "text": [
      "Initial log joint probability = -30.6758\n",
      "Optimization terminated normally: \n",
      "  Convergence detected: relative gradient magnitude is below tolerance\n"
     ]
    },
    {
     "name": "stderr",
     "output_type": "stream",
     "text": [
      "Warning message:\n",
      "\"Unknown or uninitialised column: 'y'.\""
     ]
    }
   ],
   "source": [
    "df.cv <- cross_validation(m, horizon = 227, units = 'days', period = 227, initial = 1440);"
   ]
  },
  {
   "cell_type": "code",
   "execution_count": 55,
   "metadata": {},
   "outputs": [
    {
     "data": {},
     "metadata": {},
     "output_type": "display_data"
    },
    {
     "data": {
      "image/png": "[encoded data removed]",
      "text/plain": [
       "plot without title"
      ]
     },
     "metadata": {},
     "output_type": "display_data"
    }
   ],
   "source": [
    "ggplot() + \n",
    "  # forecast\n",
    "  geom_line(data = df.cv, aes(x = ds, y = yhat, color = \"red\")) +\n",
    "  \n",
    "  # actual\n",
    "  geom_line(data = df.cv, aes(x = ds, y = y, color = \"sky blue\")) +\n",
    "  xlab('2017') +\n",
    "  ylab('# of transactions') +\n",
    "  scale_color_discrete(name = \"\", labels = c(\"forecast\", \"actual\"))\n",
    "  "
   ]
  },
  {
   "cell_type": "code",
   "execution_count": 56,
   "metadata": {},
   "outputs": [
    {
     "name": "stdout",
     "output_type": "stream",
     "text": [
      "[1] 4179.931\n"
     ]
    }
   ],
   "source": [
    "rmse = sqrt(mean(df.cv$y - df.cv$yhat)^2)\n",
    "print(rmse)"
   ]
  },
  {
   "cell_type": "code",
   "execution_count": 57,
   "metadata": {},
   "outputs": [],
   "source": [
    "future <- make_future_dataframe(m, periods = 227)\n",
    "forecast <- predict(m, future)"
   ]
  },
  {
   "cell_type": "code",
   "execution_count": 58,
   "metadata": {},
   "outputs": [
    {
     "data": {},
     "metadata": {},
     "output_type": "display_data"
    },
    {
     "data": {
      "image/png": "[encoded data removed]",
      "text/plain": [
       "plot without title"
      ]
     },
     "metadata": {},
     "output_type": "display_data"
    }
   ],
   "source": [
    "plot(m, forecast)"
   ]
  },
  {
   "cell_type": "code",
   "execution_count": 59,
   "metadata": {},
   "outputs": [
    {
     "data": {
      "image/png": "[encoded data removed]",
      "text/plain": [
       "plot without title"
      ]
     },
     "metadata": {},
     "output_type": "display_data"
    }
   ],
   "source": [
    "prophet_plot_components(m, forecast)"
   ]
  },
  {
   "cell_type": "markdown",
   "metadata": {},
   "source": [
    "### Add monthly seasonality"
   ]
  },
  {
   "cell_type": "markdown",
   "metadata": {},
   "source": [
    "prophet(df = NULL, growth = \"linear\", changepoints = NULL,\n",
    "n.changepoints = 25, yearly.seasonality = \"auto\",\n",
    "weekly.seasonality = \"auto\", daily.seasonality = \"auto\",\n",
    "holidays = NULL, seasonality.prior.scale = 10,\n",
    "holidays.prior.scale = 10, changepoint.prior.scale = 0.05,\n",
    "mcmc.samples = 0, interval.width = 0.8, uncertainty.samples = 1000,\n",
    "fit = TRUE, ...)"
   ]
  },
  {
   "cell_type": "code",
   "execution_count": 60,
   "metadata": {},
   "outputs": [],
   "source": [
    "m <- prophet(transData, \n",
    "             holidays = holidays, \n",
    "             weekly.seasonality = TRUE, \n",
    "             yearly.seasonality = TRUE, \n",
    "             daily.seasonality = FALSE, \n",
    "             fit = FALSE)"
   ]
  },
  {
   "cell_type": "code",
   "execution_count": 61,
   "metadata": {},
   "outputs": [],
   "source": [
    "m <- add_seasonality(m, name='monthly', period=30.5, fourier.order=5)"
   ]
  },
  {
   "cell_type": "code",
   "execution_count": 62,
   "metadata": {},
   "outputs": [
    {
     "name": "stdout",
     "output_type": "stream",
     "text": [
      "Initial log joint probability = -7.11134\n",
      "Optimization terminated normally: \n",
      "  Convergence detected: relative gradient magnitude is below tolerance\n"
     ]
    }
   ],
   "source": [
    "m <- fit.prophet(m, transData)"
   ]
  },
  {
   "cell_type": "code",
   "execution_count": 63,
   "metadata": {},
   "outputs": [
    {
     "name": "stdout",
     "output_type": "stream",
     "text": [
      "Initial log joint probability = -30.6758\n",
      "Optimization terminated normally: \n",
      "  Convergence detected: relative gradient magnitude is below tolerance\n"
     ]
    },
    {
     "name": "stderr",
     "output_type": "stream",
     "text": [
      "Warning message:\n",
      "\"Unknown or uninitialised column: 'y'.\""
     ]
    }
   ],
   "source": [
    "df.cv <- cross_validation(m, horizon = 227, units = 'days', period = 227, initial = 1440);"
   ]
  },
  {
   "cell_type": "code",
   "execution_count": 64,
   "metadata": {},
   "outputs": [
    {
     "data": {},
     "metadata": {},
     "output_type": "display_data"
    },
    {
     "data": {
      "image/png": "[encoded data removed]",
      "text/plain": [
       "plot without title"
      ]
     },
     "metadata": {},
     "output_type": "display_data"
    }
   ],
   "source": [
    "ggplot() + \n",
    "  # forecast\n",
    "  geom_line(data = df.cv, aes(x = ds, y = yhat, color = \"red\")) +\n",
    "  \n",
    "  # actual\n",
    "  geom_line(data = df.cv, aes(x = ds, y = y, color = \"sky blue\")) +\n",
    "  xlab('2017') +\n",
    "  ylab('# of transactions') +\n",
    "  scale_color_discrete(name = \"\", labels = c(\"forecast\", \"actual\"))"
   ]
  },
  {
   "cell_type": "code",
   "execution_count": 65,
   "metadata": {},
   "outputs": [
    {
     "name": "stdout",
     "output_type": "stream",
     "text": [
      "[1] 3586.433\n"
     ]
    }
   ],
   "source": [
    "rmse = sqrt(mean(df.cv$y - df.cv$yhat)^2)\n",
    "print(rmse)"
   ]
  },
  {
   "cell_type": "code",
   "execution_count": 66,
   "metadata": {},
   "outputs": [],
   "source": [
    "future <- make_future_dataframe(m, periods = 227)\n",
    "forecast <- predict(m, future)"
   ]
  },
  {
   "cell_type": "code",
   "execution_count": 67,
   "metadata": {},
   "outputs": [
    {
     "data": {},
     "metadata": {},
     "output_type": "display_data"
    },
    {
     "data": {
      "image/png": "[encoded data removed]",
      "text/plain": [
       "plot without title"
      ]
     },
     "metadata": {},
     "output_type": "display_data"
    }
   ],
   "source": [
    "plot(m, forecast)"
   ]
  },
  {
   "cell_type": "code",
   "execution_count": 68,
   "metadata": {},
   "outputs": [
    {
     "data": {
      "image/png": "[encoded data removed]",
      "text/plain": [
       "plot without title"
      ]
     },
     "metadata": {},
     "output_type": "display_data"
    }
   ],
   "source": [
    "prophet_plot_components(m, forecast)"
   ]
  },
  {
   "cell_type": "markdown",
   "metadata": {},
   "source": [
    "### Add paydays"
   ]
  },
  {
   "cell_type": "code",
   "execution_count": 69,
   "metadata": {},
   "outputs": [],
   "source": [
    "# payday flag add 15th and last day of month \n",
    "lastDay <- seq(as.Date(\"2013-01-01\"), length=62, by=\"1 month\") - 1\n",
    "midMonth <- seq(as.Date(\"2013-01-01\"), length=62, by=\"1 month\") + 14"
   ]
  },
  {
   "cell_type": "code",
   "execution_count": 70,
   "metadata": {},
   "outputs": [],
   "source": [
    "x <- data_frame(\n",
    " holiday = \"payday\",\n",
    " ds = lastDay)\n",
    "y <- data_frame(\n",
    " holiday = \"payday\",\n",
    " ds = midMonth)\n",
    "\n",
    "payDays <- rbind(x, y)\n",
    "holidays <- rbind(holidays, payDays)"
   ]
  },
  {
   "cell_type": "code",
   "execution_count": 71,
   "metadata": {},
   "outputs": [],
   "source": [
    "m <- prophet(transData, \n",
    "             holidays = holidays, \n",
    "             weekly.seasonality = TRUE, \n",
    "             yearly.seasonality = TRUE, \n",
    "             daily.seasonality = FALSE, \n",
    "             fit = FALSE)"
   ]
  },
  {
   "cell_type": "code",
   "execution_count": 72,
   "metadata": {},
   "outputs": [],
   "source": [
    "m <- add_seasonality(m, name='monthly', period=30.5, fourier.order=5)"
   ]
  },
  {
   "cell_type": "code",
   "execution_count": 73,
   "metadata": {},
   "outputs": [
    {
     "name": "stdout",
     "output_type": "stream",
     "text": [
      "Initial log joint probability = -7.11134\n",
      "Optimization terminated normally: \n",
      "  Convergence detected: relative gradient magnitude is below tolerance\n"
     ]
    }
   ],
   "source": [
    "m <- fit.prophet(m, transData)"
   ]
  },
  {
   "cell_type": "code",
   "execution_count": 74,
   "metadata": {},
   "outputs": [
    {
     "name": "stdout",
     "output_type": "stream",
     "text": [
      "Initial log joint probability = -30.6758\n",
      "Optimization terminated normally: \n",
      "  Convergence detected: relative gradient magnitude is below tolerance\n"
     ]
    },
    {
     "name": "stderr",
     "output_type": "stream",
     "text": [
      "Warning message:\n",
      "\"Unknown or uninitialised column: 'y'.\""
     ]
    }
   ],
   "source": [
    "df.cv <- cross_validation(m, horizon = 227, units = 'days', period = 227, initial = 1440);"
   ]
  },
  {
   "cell_type": "code",
   "execution_count": 75,
   "metadata": {},
   "outputs": [
    {
     "data": {},
     "metadata": {},
     "output_type": "display_data"
    },
    {
     "data": {
      "image/png": "[encoded data removed]",
      "text/plain": [
       "plot without title"
      ]
     },
     "metadata": {},
     "output_type": "display_data"
    }
   ],
   "source": [
    "ggplot() + \n",
    "  # forecast\n",
    "  geom_line(data = df.cv, aes(x = ds, y = yhat, color = \"red\")) +\n",
    "  \n",
    "  # actual\n",
    "  geom_line(data = df.cv, aes(x = ds, y = y, color = \"sky blue\")) +\n",
    "  xlab('2017') +\n",
    "  ylab('# of transactions') +\n",
    "  scale_color_discrete(name = \"\", labels = c(\"forecast\", \"actual\"))"
   ]
  },
  {
   "cell_type": "code",
   "execution_count": 76,
   "metadata": {},
   "outputs": [
    {
     "name": "stdout",
     "output_type": "stream",
     "text": [
      "[1] 3563.854\n"
     ]
    }
   ],
   "source": [
    "rmse = sqrt(mean(df.cv$y - df.cv$yhat)^2)\n",
    "print(rmse)"
   ]
  },
  {
   "cell_type": "code",
   "execution_count": 77,
   "metadata": {},
   "outputs": [],
   "source": [
    "future <- make_future_dataframe(m, periods = 227)\n",
    "forecast <- predict(m, future)"
   ]
  },
  {
   "cell_type": "code",
   "execution_count": 78,
   "metadata": {},
   "outputs": [
    {
     "data": {},
     "metadata": {},
     "output_type": "display_data"
    },
    {
     "data": {
      "image/png": "[encoded data removed]",
      "text/plain": [
       "plot without title"
      ]
     },
     "metadata": {},
     "output_type": "display_data"
    }
   ],
   "source": [
    "plot(m, forecast)"
   ]
  },
  {
   "cell_type": "code",
   "execution_count": 79,
   "metadata": {},
   "outputs": [
    {
     "data": {
      "image/png": "[encoded data removed]",
      "text/plain": [
       "plot without title"
      ]
     },
     "metadata": {},
     "output_type": "display_data"
    }
   ],
   "source": [
    "prophet_plot_components(m, forecast)"
   ]
  },
  {
   "cell_type": "markdown",
   "metadata": {},
   "source": [
    "### Format Holidays table with lower_window and upper_window "
   ]
  },
  {
   "cell_type": "code",
   "execution_count": 80,
   "metadata": {},
   "outputs": [],
   "source": [
    "holidays$lower_window <- 0\n",
    "holidays$upper_window <- 0"
   ]
  },
  {
   "cell_type": "code",
   "execution_count": 81,
   "metadata": {},
   "outputs": [],
   "source": [
    "holidays$lower_window[holidays$holiday == 'Dia de la Madre'] <- -1"
   ]
  },
  {
   "cell_type": "code",
   "execution_count": 82,
   "metadata": {},
   "outputs": [],
   "source": [
    "holidays <- holidays[!grepl('Dia de la Madre-1',holidays$holiday),]"
   ]
  },
  {
   "cell_type": "code",
   "execution_count": 83,
   "metadata": {},
   "outputs": [],
   "source": [
    "holidays[grep(\"futbol\", holidays$holiday), ]$holiday <- 'Mundial de futbol Brasil'"
   ]
  },
  {
   "cell_type": "code",
   "execution_count": 84,
   "metadata": {},
   "outputs": [],
   "source": [
    "holidays$lower_window[holidays$holiday == 'Navidad'] <- -4"
   ]
  },
  {
   "cell_type": "code",
   "execution_count": 85,
   "metadata": {},
   "outputs": [],
   "source": [
    "holidays$upper_window[grepl('Navidad-',holidays$holiday)] <- +1"
   ]
  },
  {
   "cell_type": "code",
   "execution_count": 86,
   "metadata": {},
   "outputs": [],
   "source": [
    "holidays <- holidays[!grepl('Navidad-',holidays$holiday),]\n",
    "holidays <- holidays[!grepl('Navidad\\\\+',holidays$holiday),]"
   ]
  },
  {
   "cell_type": "code",
   "execution_count": 87,
   "metadata": {},
   "outputs": [],
   "source": [
    "holidays$upper_window[holidays$holiday == 'Terremoto Manabi'] <- 30"
   ]
  },
  {
   "cell_type": "code",
   "execution_count": 88,
   "metadata": {},
   "outputs": [],
   "source": [
    "holidays <- holidays[!grepl('Terremoto Manabi\\\\+',holidays$holiday),]"
   ]
  },
  {
   "cell_type": "code",
   "execution_count": 89,
   "metadata": {},
   "outputs": [],
   "source": [
    "holidays$lower_window[holidays$holiday == 'Primer dia del ano'] <- -1"
   ]
  },
  {
   "cell_type": "code",
   "execution_count": 90,
   "metadata": {},
   "outputs": [],
   "source": [
    "holidays <- holidays[!grepl('Primer dia del ano-1',holidays$holiday),]"
   ]
  },
  {
   "cell_type": "markdown",
   "metadata": {},
   "source": [
    "Re-run model with new Holidays table"
   ]
  },
  {
   "cell_type": "code",
   "execution_count": 91,
   "metadata": {},
   "outputs": [],
   "source": [
    "m <- prophet(transData, \n",
    "             holidays = holidays, \n",
    "             weekly.seasonality = TRUE, \n",
    "             yearly.seasonality = TRUE, \n",
    "             daily.seasonality = FALSE, \n",
    "             fit = FALSE)"
   ]
  },
  {
   "cell_type": "code",
   "execution_count": 92,
   "metadata": {},
   "outputs": [],
   "source": [
    "m <- add_seasonality(m, name='monthly', period=30.5, fourier.order=5)"
   ]
  },
  {
   "cell_type": "code",
   "execution_count": 93,
   "metadata": {},
   "outputs": [
    {
     "name": "stdout",
     "output_type": "stream",
     "text": [
      "Initial log joint probability = -7.11134\n",
      "Optimization terminated normally: \n",
      "  Convergence detected: relative gradient magnitude is below tolerance\n"
     ]
    }
   ],
   "source": [
    "m <- fit.prophet(m, transData)"
   ]
  },
  {
   "cell_type": "code",
   "execution_count": 94,
   "metadata": {},
   "outputs": [
    {
     "name": "stdout",
     "output_type": "stream",
     "text": [
      "Initial log joint probability = -30.6758\n",
      "Optimization terminated normally: \n",
      "  Convergence detected: relative gradient magnitude is below tolerance\n"
     ]
    },
    {
     "name": "stderr",
     "output_type": "stream",
     "text": [
      "Warning message:\n",
      "\"Unknown or uninitialised column: 'y'.\""
     ]
    }
   ],
   "source": [
    "df.cv <- cross_validation(m, horizon = 227, units = 'days', period = 227, initial = 1440);"
   ]
  },
  {
   "cell_type": "code",
   "execution_count": 95,
   "metadata": {},
   "outputs": [
    {
     "data": {},
     "metadata": {},
     "output_type": "display_data"
    },
    {
     "data": {
      "image/png": "[encoded data removed]",
      "text/plain": [
       "plot without title"
      ]
     },
     "metadata": {},
     "output_type": "display_data"
    }
   ],
   "source": [
    "ggplot() + \n",
    "  # forecast\n",
    "  geom_line(data = df.cv, aes(x = ds, y = yhat, color = \"red\")) +\n",
    "  \n",
    "  # actual\n",
    "  geom_line(data = df.cv, aes(x = ds, y = y, color = \"sky blue\")) +\n",
    "  xlab('2017') +\n",
    "  ylab('# of transactions') +\n",
    "  scale_color_discrete(name = \"\", labels = c(\"forecast\", \"actual\"))"
   ]
  },
  {
   "cell_type": "code",
   "execution_count": 96,
   "metadata": {},
   "outputs": [
    {
     "name": "stdout",
     "output_type": "stream",
     "text": [
      "[1] 3495.692\n"
     ]
    }
   ],
   "source": [
    "rmse = sqrt(mean(df.cv$y - df.cv$yhat)^2)\n",
    "print(rmse)"
   ]
  },
  {
   "cell_type": "code",
   "execution_count": 97,
   "metadata": {},
   "outputs": [],
   "source": [
    "future <- make_future_dataframe(m, periods = 227)\n",
    "forecast <- predict(m, future)"
   ]
  },
  {
   "cell_type": "code",
   "execution_count": 98,
   "metadata": {},
   "outputs": [
    {
     "data": {},
     "metadata": {},
     "output_type": "display_data"
    },
    {
     "data": {
      "image/png": "[encoded data removed]",
      "text/plain": [
       "plot without title"
      ]
     },
     "metadata": {},
     "output_type": "display_data"
    }
   ],
   "source": [
    "plot(m, forecast)"
   ]
  },
  {
   "cell_type": "code",
   "execution_count": 99,
   "metadata": {},
   "outputs": [
    {
     "data": {
      "image/png": "[encoded data removed]",
      "text/plain": [
       "plot without title"
      ]
     },
     "metadata": {},
     "output_type": "display_data"
    }
   ],
   "source": [
    "prophet_plot_components(m, forecast)"
   ]
  },
  {
   "cell_type": "markdown",
   "metadata": {},
   "source": [
    "### Add uncertainty intervals"
   ]
  },
  {
   "cell_type": "code",
   "execution_count": 100,
   "metadata": {},
   "outputs": [
    {
     "name": "stdout",
     "output_type": "stream",
     "text": [
      "Initial log joint probability = -7.11134\n",
      "Optimization terminated normally: \n",
      "  Convergence detected: relative gradient magnitude is below tolerance\n",
      "Initial log joint probability = -30.6758\n",
      "Optimization terminated normally: \n",
      "  Convergence detected: relative gradient magnitude is below tolerance\n"
     ]
    },
    {
     "name": "stderr",
     "output_type": "stream",
     "text": [
      "Warning message:\n",
      "\"Unknown or uninitialised column: 'y'.\""
     ]
    }
   ],
   "source": [
    "m <- prophet(transData, \n",
    "             holidays = holidays, \n",
    "             weekly.seasonality = TRUE, \n",
    "             yearly.seasonality = TRUE, \n",
    "             daily.seasonality = FALSE, \n",
    "             fit = FALSE,\n",
    "             mcmc_samples=300)\n",
    "m <- add_seasonality(m, name='monthly', period=30.5, fourier.order=5)\n",
    "m <- fit.prophet(m, transData)\n",
    "df.cv <- cross_validation(m, horizon = 227, units = 'days', period = 227, initial = 1440)"
   ]
  },
  {
   "cell_type": "code",
   "execution_count": 101,
   "metadata": {},
   "outputs": [
    {
     "data": {},
     "metadata": {},
     "output_type": "display_data"
    },
    {
     "data": {
      "image/png": "[encoded data removed]",
      "text/plain": [
       "plot without title"
      ]
     },
     "metadata": {},
     "output_type": "display_data"
    }
   ],
   "source": [
    "ggplot() + \n",
    "  # forecast\n",
    "  geom_line(data = df.cv, aes(x = ds, y = yhat, color = \"red\")) +\n",
    "  \n",
    "  # actual\n",
    "  geom_line(data = df.cv, aes(x = ds, y = y, color = \"sky blue\")) +\n",
    "  xlab('2017') +\n",
    "  ylab('# of transactions') +\n",
    "  scale_color_discrete(name = \"\", labels = c(\"forecast\", \"actual\"))"
   ]
  },
  {
   "cell_type": "code",
   "execution_count": 102,
   "metadata": {},
   "outputs": [
    {
     "name": "stdout",
     "output_type": "stream",
     "text": [
      "[1] 3495.692\n"
     ]
    }
   ],
   "source": [
    "rmse = sqrt(mean(df.cv$y - df.cv$yhat)^2)\n",
    "print(rmse)"
   ]
  },
  {
   "cell_type": "code",
   "execution_count": 103,
   "metadata": {},
   "outputs": [],
   "source": [
    "future <- make_future_dataframe(m, periods = 227)\n",
    "forecast <- predict(m, future)"
   ]
  },
  {
   "cell_type": "code",
   "execution_count": 104,
   "metadata": {},
   "outputs": [
    {
     "data": {},
     "metadata": {},
     "output_type": "display_data"
    },
    {
     "data": {
      "image/png": "[encoded data removed]",
      "text/plain": [
       "plot without title"
      ]
     },
     "metadata": {},
     "output_type": "display_data"
    }
   ],
   "source": [
    "plot(m, forecast)"
   ]
  },
  {
   "cell_type": "code",
   "execution_count": 105,
   "metadata": {},
   "outputs": [
    {
     "data": {
      "image/png": "[encoded data removed]",
      "text/plain": [
       "plot without title"
      ]
     },
     "metadata": {},
     "output_type": "display_data"
    }
   ],
   "source": [
    "prophet_plot_components(m, forecast)"
   ]
  },
  {
   "cell_type": "markdown",
   "metadata": {},
   "source": [
    "### Adjusting trend flexibility\n",
    "If the trend changes are being overfit (too much flexibility) or underfit (not enough flexibility), you can adjust the strength of the sparse prior using the input argument changepoint_prior_scale. By default, this parameter is set to 0.05. Increasing it will make the trend more flexible"
   ]
  },
  {
   "cell_type": "code",
   "execution_count": 106,
   "metadata": {},
   "outputs": [
    {
     "name": "stdout",
     "output_type": "stream",
     "text": [
      "Initial log joint probability = -7.11134\n",
      "Optimization terminated normally: \n",
      "  Convergence detected: relative gradient magnitude is below tolerance\n",
      "Initial log joint probability = -30.6758\n",
      "Optimization terminated normally: \n",
      "  Convergence detected: relative gradient magnitude is below tolerance\n"
     ]
    },
    {
     "name": "stderr",
     "output_type": "stream",
     "text": [
      "Warning message:\n",
      "\"Unknown or uninitialised column: 'y'.\""
     ]
    }
   ],
   "source": [
    "m <- prophet(transData, \n",
    "             holidays = holidays, \n",
    "             weekly.seasonality = TRUE, \n",
    "             yearly.seasonality = TRUE, \n",
    "             daily.seasonality = FALSE, \n",
    "             fit = FALSE,\n",
    "             mcmc_samples=300,\n",
    "             changepoint.prior.scale = 0.2)  # Increase to make the trend more flexible\n",
    "m <- add_seasonality(m, name='monthly', period=30.5, fourier.order=5)\n",
    "m <- fit.prophet(m, transData)\n",
    "df.cv <- cross_validation(m, horizon = 227, units = 'days', period = 227, initial = 1440)"
   ]
  },
  {
   "cell_type": "code",
   "execution_count": 107,
   "metadata": {},
   "outputs": [
    {
     "data": {},
     "metadata": {},
     "output_type": "display_data"
    },
    {
     "data": {
      "image/png": "[encoded data removed]",
      "text/plain": [
       "plot without title"
      ]
     },
     "metadata": {},
     "output_type": "display_data"
    }
   ],
   "source": [
    "ggplot() + \n",
    "  # forecast\n",
    "  geom_line(data = df.cv, aes(x = ds, y = yhat, color = \"red\")) +\n",
    "  \n",
    "  # actual\n",
    "  geom_line(data = df.cv, aes(x = ds, y = y, color = \"sky blue\")) +\n",
    "  xlab('2017') +\n",
    "  ylab('# of transactions') +\n",
    "  scale_color_discrete(name = \"\", labels = c(\"forecast\", \"actual\"))"
   ]
  },
  {
   "cell_type": "code",
   "execution_count": 108,
   "metadata": {},
   "outputs": [
    {
     "name": "stdout",
     "output_type": "stream",
     "text": [
      "[1] 323.4435\n"
     ]
    }
   ],
   "source": [
    "rmse = sqrt(mean(df.cv$y - df.cv$yhat)^2)\n",
    "print(rmse)"
   ]
  },
  {
   "cell_type": "code",
   "execution_count": 109,
   "metadata": {},
   "outputs": [],
   "source": [
    "future <- make_future_dataframe(m, periods = 227)\n",
    "forecast <- predict(m, future)"
   ]
  },
  {
   "cell_type": "code",
   "execution_count": 110,
   "metadata": {},
   "outputs": [
    {
     "data": {},
     "metadata": {},
     "output_type": "display_data"
    },
    {
     "data": {
      "image/png": "[encoded data removed]",
      "text/plain": [
       "plot without title"
      ]
     },
     "metadata": {},
     "output_type": "display_data"
    }
   ],
   "source": [
    "plot(m, forecast)"
   ]
  },
  {
   "cell_type": "code",
   "execution_count": 111,
   "metadata": {},
   "outputs": [
    {
     "data": {
      "image/png": "[encoded data removed]",
      "text/plain": [
       "plot without title"
      ]
     },
     "metadata": {},
     "output_type": "display_data"
    }
   ],
   "source": [
    "prophet_plot_components(m, forecast)"
   ]
  },
  {
   "cell_type": "markdown",
   "metadata": {},
   "source": [
    "### Verify results again"
   ]
  },
  {
   "cell_type": "code",
   "execution_count": 112,
   "metadata": {},
   "outputs": [],
   "source": [
    "train <- filter(transData, ds < '2017-01-01')\n",
    "test <- filter(transData, ds >= '2017-01-01')"
   ]
  },
  {
   "cell_type": "code",
   "execution_count": 113,
   "metadata": {},
   "outputs": [
    {
     "name": "stdout",
     "output_type": "stream",
     "text": [
      "Initial log joint probability = -30.6758\n",
      "Optimization terminated normally: \n",
      "  Convergence detected: relative gradient magnitude is below tolerance\n"
     ]
    }
   ],
   "source": [
    "m <- prophet(train, \n",
    "             holidays = holidays, \n",
    "             weekly.seasonality = TRUE, \n",
    "             yearly.seasonality = TRUE, \n",
    "             daily.seasonality = FALSE, \n",
    "             fit = FALSE,\n",
    "             mcmc_samples=300,\n",
    "             changepoint.prior.scale = 0.2)  # Increase to make the trend more flexible\n",
    "m <- add_seasonality(m, name='monthly', period=30.5, fourier.order=5)\n",
    "m <- fit.prophet(m, train)"
   ]
  },
  {
   "cell_type": "code",
   "execution_count": 114,
   "metadata": {},
   "outputs": [],
   "source": [
    "future <- make_future_dataframe(m, periods = 365)\n",
    "forecast <- predict(m, future)"
   ]
  },
  {
   "cell_type": "code",
   "execution_count": 115,
   "metadata": {},
   "outputs": [
    {
     "data": {},
     "metadata": {},
     "output_type": "display_data"
    },
    {
     "data": {
      "image/png": "[encoded data removed]",
      "text/plain": [
       "plot without title"
      ]
     },
     "metadata": {},
     "output_type": "display_data"
    }
   ],
   "source": [
    "plot(m, forecast)"
   ]
  },
  {
   "cell_type": "code",
   "execution_count": 116,
   "metadata": {},
   "outputs": [
    {
     "data": {
      "image/png": "[encoded data removed]",
      "text/plain": [
       "plot without title"
      ]
     },
     "metadata": {},
     "output_type": "display_data"
    }
   ],
   "source": [
    "prophet_plot_components(m, forecast)"
   ]
  },
  {
   "cell_type": "code",
   "execution_count": 117,
   "metadata": {},
   "outputs": [
    {
     "data": {
      "text/html": [
       "<table>\n",
       "<thead><tr><th scope=col>ds</th><th scope=col>trend</th><th scope=col>Batalla de Pichincha</th><th scope=col>Batalla de Pichincha_lower</th><th scope=col>Batalla de Pichincha_upper</th><th scope=col>Black Friday</th><th scope=col>Black Friday_lower</th><th scope=col>Black Friday_upper</th><th scope=col>Carnaval</th><th scope=col>Carnaval_lower</th><th scope=col>...</th><th scope=col>weekly_lower</th><th scope=col>weekly_upper</th><th scope=col>yearly</th><th scope=col>yearly_lower</th><th scope=col>yearly_upper</th><th scope=col>yhat_lower</th><th scope=col>yhat_upper</th><th scope=col>trend_lower</th><th scope=col>trend_upper</th><th scope=col>yhat</th></tr></thead>\n",
       "<tbody>\n",
       "\t<tr><td>2013-01-02</td><td>75626.89  </td><td>0         </td><td>0         </td><td>0         </td><td>0         </td><td>0         </td><td>0         </td><td>0         </td><td>0         </td><td>...       </td><td>-3770.049 </td><td>-3770.049 </td><td>11986.407 </td><td>11986.407 </td><td>11986.407 </td><td>81279.41  </td><td>90990.38  </td><td>75626.89  </td><td>75626.89  </td><td>86266.15  </td></tr>\n",
       "\t<tr><td>2013-01-03</td><td>75654.42  </td><td>0         </td><td>0         </td><td>0         </td><td>0         </td><td>0         </td><td>0         </td><td>0         </td><td>0         </td><td>...       </td><td>-7033.074 </td><td>-7033.074 </td><td>10690.098 </td><td>10690.098 </td><td>10690.098 </td><td>75880.31  </td><td>85507.96  </td><td>75654.42  </td><td>75654.42  </td><td>80876.92  </td></tr>\n",
       "\t<tr><td>2013-01-04</td><td>75681.96  </td><td>0         </td><td>0         </td><td>0         </td><td>0         </td><td>0         </td><td>0         </td><td>0         </td><td>0         </td><td>...       </td><td>-2048.507 </td><td>-2048.507 </td><td> 9365.612 </td><td> 9365.612 </td><td> 9365.612 </td><td>78728.11  </td><td>88506.95  </td><td>75681.96  </td><td>75681.96  </td><td>83850.68  </td></tr>\n",
       "\t<tr><td>2013-01-05</td><td>75709.49  </td><td>0         </td><td>0         </td><td>0         </td><td>0         </td><td>0         </td><td>0         </td><td>0         </td><td>0         </td><td>...       </td><td>12377.449 </td><td>12377.449 </td><td> 8033.019 </td><td> 8033.019 </td><td> 8033.019 </td><td>88575.87  </td><td>98338.24  </td><td>75709.49  </td><td>75709.49  </td><td>93562.94  </td></tr>\n",
       "\t<tr><td>2013-01-06</td><td>75737.02  </td><td>0         </td><td>0         </td><td>0         </td><td>0         </td><td>0         </td><td>0         </td><td>0         </td><td>0         </td><td>...       </td><td> 8050.679 </td><td> 8050.679 </td><td> 6712.052 </td><td> 6712.052 </td><td> 6712.052 </td><td>84695.47  </td><td>94756.38  </td><td>75737.02  </td><td>75737.02  </td><td>89900.95  </td></tr>\n",
       "\t<tr><td>2013-01-07</td><td>75764.56  </td><td>0         </td><td>0         </td><td>0         </td><td>0         </td><td>0         </td><td>0         </td><td>0         </td><td>0         </td><td>...       </td><td>-2683.334 </td><td>-2683.334 </td><td> 5421.720 </td><td> 5421.720 </td><td> 5421.720 </td><td>72203.49  </td><td>81652.72  </td><td>75764.56  </td><td>75764.56  </td><td>77125.00  </td></tr>\n",
       "</tbody>\n",
       "</table>\n"
      ],
      "text/latex": [
       "\\begin{tabular}{r|lllllllllllllllllllllllllllllllllllllllllllllllllllllllllllllllllllllllllllllllllllllllllllllllllllllllllllll}\n",
       " ds & trend & Batalla de Pichincha & Batalla de Pichincha\\_lower & Batalla de Pichincha\\_upper & Black Friday & Black Friday\\_lower & Black Friday\\_upper & Carnaval & Carnaval\\_lower & ... & weekly\\_lower & weekly\\_upper & yearly & yearly\\_lower & yearly\\_upper & yhat\\_lower & yhat\\_upper & trend\\_lower & trend\\_upper & yhat\\\\\n",
       "\\hline\n",
       "\t 2013-01-02 & 75626.89   & 0          & 0          & 0          & 0          & 0          & 0          & 0          & 0          & ...        & -3770.049  & -3770.049  & 11986.407  & 11986.407  & 11986.407  & 81279.41   & 90990.38   & 75626.89   & 75626.89   & 86266.15  \\\\\n",
       "\t 2013-01-03 & 75654.42   & 0          & 0          & 0          & 0          & 0          & 0          & 0          & 0          & ...        & -7033.074  & -7033.074  & 10690.098  & 10690.098  & 10690.098  & 75880.31   & 85507.96   & 75654.42   & 75654.42   & 80876.92  \\\\\n",
       "\t 2013-01-04 & 75681.96   & 0          & 0          & 0          & 0          & 0          & 0          & 0          & 0          & ...        & -2048.507  & -2048.507  &  9365.612  &  9365.612  &  9365.612  & 78728.11   & 88506.95   & 75681.96   & 75681.96   & 83850.68  \\\\\n",
       "\t 2013-01-05 & 75709.49   & 0          & 0          & 0          & 0          & 0          & 0          & 0          & 0          & ...        & 12377.449  & 12377.449  &  8033.019  &  8033.019  &  8033.019  & 88575.87   & 98338.24   & 75709.49   & 75709.49   & 93562.94  \\\\\n",
       "\t 2013-01-06 & 75737.02   & 0          & 0          & 0          & 0          & 0          & 0          & 0          & 0          & ...        &  8050.679  &  8050.679  &  6712.052  &  6712.052  &  6712.052  & 84695.47   & 94756.38   & 75737.02   & 75737.02   & 89900.95  \\\\\n",
       "\t 2013-01-07 & 75764.56   & 0          & 0          & 0          & 0          & 0          & 0          & 0          & 0          & ...        & -2683.334  & -2683.334  &  5421.720  &  5421.720  &  5421.720  & 72203.49   & 81652.72   & 75764.56   & 75764.56   & 77125.00  \\\\\n",
       "\\end{tabular}\n"
      ],
      "text/markdown": [
       "\n",
       "ds | trend | Batalla de Pichincha | Batalla de Pichincha_lower | Batalla de Pichincha_upper | Black Friday | Black Friday_lower | Black Friday_upper | Carnaval | Carnaval_lower | ... | weekly_lower | weekly_upper | yearly | yearly_lower | yearly_upper | yhat_lower | yhat_upper | trend_lower | trend_upper | yhat | \n",
       "|---|---|---|---|---|---|\n",
       "| 2013-01-02 | 75626.89   | 0          | 0          | 0          | 0          | 0          | 0          | 0          | 0          | ...        | -3770.049  | -3770.049  | 11986.407  | 11986.407  | 11986.407  | 81279.41   | 90990.38   | 75626.89   | 75626.89   | 86266.15   | \n",
       "| 2013-01-03 | 75654.42   | 0          | 0          | 0          | 0          | 0          | 0          | 0          | 0          | ...        | -7033.074  | -7033.074  | 10690.098  | 10690.098  | 10690.098  | 75880.31   | 85507.96   | 75654.42   | 75654.42   | 80876.92   | \n",
       "| 2013-01-04 | 75681.96   | 0          | 0          | 0          | 0          | 0          | 0          | 0          | 0          | ...        | -2048.507  | -2048.507  |  9365.612  |  9365.612  |  9365.612  | 78728.11   | 88506.95   | 75681.96   | 75681.96   | 83850.68   | \n",
       "| 2013-01-05 | 75709.49   | 0          | 0          | 0          | 0          | 0          | 0          | 0          | 0          | ...        | 12377.449  | 12377.449  |  8033.019  |  8033.019  |  8033.019  | 88575.87   | 98338.24   | 75709.49   | 75709.49   | 93562.94   | \n",
       "| 2013-01-06 | 75737.02   | 0          | 0          | 0          | 0          | 0          | 0          | 0          | 0          | ...        |  8050.679  |  8050.679  |  6712.052  |  6712.052  |  6712.052  | 84695.47   | 94756.38   | 75737.02   | 75737.02   | 89900.95   | \n",
       "| 2013-01-07 | 75764.56   | 0          | 0          | 0          | 0          | 0          | 0          | 0          | 0          | ...        | -2683.334  | -2683.334  |  5421.720  |  5421.720  |  5421.720  | 72203.49   | 81652.72   | 75764.56   | 75764.56   | 77125.00   | \n",
       "\n",
       "\n"
      ],
      "text/plain": [
       "  ds         trend    Batalla de Pichincha Batalla de Pichincha_lower\n",
       "1 2013-01-02 75626.89 0                    0                         \n",
       "2 2013-01-03 75654.42 0                    0                         \n",
       "3 2013-01-04 75681.96 0                    0                         \n",
       "4 2013-01-05 75709.49 0                    0                         \n",
       "5 2013-01-06 75737.02 0                    0                         \n",
       "6 2013-01-07 75764.56 0                    0                         \n",
       "  Batalla de Pichincha_upper Black Friday Black Friday_lower Black Friday_upper\n",
       "1 0                          0            0                  0                 \n",
       "2 0                          0            0                  0                 \n",
       "3 0                          0            0                  0                 \n",
       "4 0                          0            0                  0                 \n",
       "5 0                          0            0                  0                 \n",
       "6 0                          0            0                  0                 \n",
       "  Carnaval Carnaval_lower ... weekly_lower weekly_upper yearly    yearly_lower\n",
       "1 0        0              ... -3770.049    -3770.049    11986.407 11986.407   \n",
       "2 0        0              ... -7033.074    -7033.074    10690.098 10690.098   \n",
       "3 0        0              ... -2048.507    -2048.507     9365.612  9365.612   \n",
       "4 0        0              ... 12377.449    12377.449     8033.019  8033.019   \n",
       "5 0        0              ...  8050.679     8050.679     6712.052  6712.052   \n",
       "6 0        0              ... -2683.334    -2683.334     5421.720  5421.720   \n",
       "  yearly_upper yhat_lower yhat_upper trend_lower trend_upper yhat    \n",
       "1 11986.407    81279.41   90990.38   75626.89    75626.89    86266.15\n",
       "2 10690.098    75880.31   85507.96   75654.42    75654.42    80876.92\n",
       "3  9365.612    78728.11   88506.95   75681.96    75681.96    83850.68\n",
       "4  8033.019    88575.87   98338.24   75709.49    75709.49    93562.94\n",
       "5  6712.052    84695.47   94756.38   75737.02    75737.02    89900.95\n",
       "6  5421.720    72203.49   81652.72   75764.56    75764.56    77125.00"
      ]
     },
     "metadata": {},
     "output_type": "display_data"
    }
   ],
   "source": [
    "head(forecast)"
   ]
  },
  {
   "cell_type": "code",
   "execution_count": 118,
   "metadata": {},
   "outputs": [],
   "source": [
    "chartData <- forecast %>% \n",
    "  select(ds, yhat) %>%\n",
    "  filter(ds >= \"2017-01-01\" & ds <= '2017-08-15') \n",
    "chartData$ds <- as.Date(chartData$ds)"
   ]
  },
  {
   "cell_type": "code",
   "execution_count": 119,
   "metadata": {},
   "outputs": [
    {
     "data": {},
     "metadata": {},
     "output_type": "display_data"
    },
    {
     "data": {
      "image/png": "[encoded data removed]",
      "text/plain": [
       "plot without title"
      ]
     },
     "metadata": {},
     "output_type": "display_data"
    }
   ],
   "source": [
    "ggplot() + \n",
    "  # forecast\n",
    "  geom_line(data = chartData, aes(x = ds, y = yhat, color = \"red\")) +\n",
    "  \n",
    "  # actual\n",
    "  geom_line(data = test, aes(x = ds, y = y, color = \"sky blue\")) +\n",
    "  xlab('2017') +\n",
    "  ylab('# of transactions') +\n",
    "  scale_color_discrete(name = \"\", labels = c(\"forecast\", \"actual\"))"
   ]
  },
  {
   "cell_type": "code",
   "execution_count": 120,
   "metadata": {},
   "outputs": [
    {
     "name": "stdout",
     "output_type": "stream",
     "text": [
      "[1] 323.4435\n"
     ]
    }
   ],
   "source": [
    "rmse = sqrt(mean(test$y - chartData$yhat)^2)\n",
    "print(rmse)"
   ]
  },
  {
   "cell_type": "markdown",
   "metadata": {},
   "source": [
    "### Changepoint.prior.scale set to 0.1 instead of 0.2 (less flexible)"
   ]
  },
  {
   "cell_type": "code",
   "execution_count": 121,
   "metadata": {},
   "outputs": [
    {
     "name": "stdout",
     "output_type": "stream",
     "text": [
      "Initial log joint probability = -30.6758\n",
      "Optimization terminated normally: \n",
      "  Convergence detected: relative gradient magnitude is below tolerance\n"
     ]
    }
   ],
   "source": [
    "m <- prophet(train, \n",
    "             holidays = holidays, \n",
    "             weekly.seasonality = TRUE, \n",
    "             yearly.seasonality = TRUE, \n",
    "             daily.seasonality = FALSE, \n",
    "             fit = FALSE,\n",
    "             mcmc_samples=300,\n",
    "             changepoint.prior.scale = 0.1)  # Increase to make the trend more flexible\n",
    "m <- add_seasonality(m, name='monthly', period=30.5, fourier.order=5)\n",
    "m <- fit.prophet(m, train)"
   ]
  },
  {
   "cell_type": "code",
   "execution_count": 122,
   "metadata": {},
   "outputs": [],
   "source": [
    "future <- make_future_dataframe(m, periods = 365)\n",
    "forecast <- predict(m, future)\n",
    "\n",
    "chartData <- forecast %>% \n",
    "  select(ds, yhat) %>%\n",
    "  filter(ds >= \"2017-01-01\" & ds <= '2017-08-15') \n",
    "chartData$ds <- as.Date(chartData$ds)"
   ]
  },
  {
   "cell_type": "code",
   "execution_count": 123,
   "metadata": {},
   "outputs": [
    {
     "name": "stdout",
     "output_type": "stream",
     "text": [
      "[1] 2666.659\n"
     ]
    }
   ],
   "source": [
    "rmse = sqrt(mean(test$y - chartData$yhat)^2)\n",
    "print(rmse)"
   ]
  },
  {
   "cell_type": "markdown",
   "metadata": {},
   "source": [
    "### Changepoint.prior.scale set to 0.3 instead of 0.2 (more flexible)"
   ]
  },
  {
   "cell_type": "code",
   "execution_count": 124,
   "metadata": {},
   "outputs": [
    {
     "name": "stdout",
     "output_type": "stream",
     "text": [
      "Initial log joint probability = -30.6758\n",
      "Optimization terminated normally: \n",
      "  Convergence detected: relative gradient magnitude is below tolerance\n"
     ]
    }
   ],
   "source": [
    "m <- prophet(train, \n",
    "             holidays = holidays, \n",
    "             weekly.seasonality = TRUE, \n",
    "             yearly.seasonality = TRUE, \n",
    "             daily.seasonality = FALSE, \n",
    "             fit = FALSE,\n",
    "             mcmc_samples=300,\n",
    "             changepoint.prior.scale = 0.3)  # Increase to make the trend more flexible\n",
    "m <- add_seasonality(m, name='monthly', period=30.5, fourier.order=5)\n",
    "m <- fit.prophet(m, train)"
   ]
  },
  {
   "cell_type": "code",
   "execution_count": 125,
   "metadata": {},
   "outputs": [],
   "source": [
    "future <- make_future_dataframe(m, periods = 365)\n",
    "forecast <- predict(m, future)\n",
    "\n",
    "chartData <- forecast %>% \n",
    "  select(ds, yhat) %>%\n",
    "  filter(ds >= \"2017-01-01\" & ds <= '2017-08-15') \n",
    "chartData$ds <- as.Date(chartData$ds)"
   ]
  },
  {
   "cell_type": "code",
   "execution_count": 126,
   "metadata": {},
   "outputs": [
    {
     "name": "stdout",
     "output_type": "stream",
     "text": [
      "[1] 884.5174\n"
     ]
    }
   ],
   "source": [
    "rmse = sqrt(mean(test$y - chartData$yhat)^2)\n",
    "print(rmse)"
   ]
  }
 ],
 "metadata": {
  "kernelspec": {
   "display_name": "R",
   "language": "R",
   "name": "ir"
  },
  "language_info": {
   "codemirror_mode": "r",
   "file_extension": ".r",
   "mimetype": "text/x-r-source",
   "name": "R",
   "pygments_lexer": "r",
   "version": "3.4.2"
  }
 },
 "nbformat": 4,
 "nbformat_minor": 2
}
