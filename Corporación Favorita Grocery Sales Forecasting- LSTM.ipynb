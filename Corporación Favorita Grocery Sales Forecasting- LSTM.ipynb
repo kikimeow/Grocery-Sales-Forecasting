{
 "cells": [
  {
   "cell_type": "markdown",
   "metadata": {},
   "source": [
    "# Corporación Favorita Grocery Sales Forecasting- LSTM"
   ]
  },
  {
   "cell_type": "markdown",
   "metadata": {},
   "source": [
    "This notebook will build an LSTM model to predict the total number of transactions in future time periods."
   ]
  },
  {
   "cell_type": "code",
   "execution_count": 1,
   "metadata": {},
   "outputs": [
    {
     "name": "stderr",
     "output_type": "stream",
     "text": [
      "C:\\Users\\kikimeow\\Anaconda3\\envs\\tf-music21\\lib\\site-packages\\h5py\\__init__.py:36: FutureWarning: Conversion of the second argument of issubdtype from `float` to `np.floating` is deprecated. In future, it will be treated as `np.float64 == np.dtype(float).type`.\n",
      "  from ._conv import register_converters as _register_converters\n",
      "Using TensorFlow backend.\n"
     ]
    }
   ],
   "source": [
    "import os\n",
    "import gc\n",
    "import pydot\n",
    "import graphviz\n",
    "import pandas as pd\n",
    "import numpy as np\n",
    "import matplotlib.pyplot as plt\n",
    "from sklearn.preprocessing import StandardScaler\n",
    "from keras.models import Model\n",
    "from keras.layers import Dense, Activation, Dropout, Input, LSTM, Reshape, Lambda, RepeatVector\n",
    "from keras.initializers import glorot_uniform\n",
    "from keras.utils import to_categorical, plot_model\n",
    "from keras.optimizers import Adam\n",
    "from keras import backend as K\n",
    "\n",
    "np.random.seed(1)\n",
    "%matplotlib inline  "
   ]
  },
  {
   "cell_type": "markdown",
   "metadata": {},
   "source": [
    "Load transactions data, which is the sum of unit_sales aggregated by store_nbr. "
   ]
  },
  {
   "cell_type": "code",
   "execution_count": 2,
   "metadata": {},
   "outputs": [],
   "source": [
    "transactions = pd.read_csv(\"C:/Users/kikimeow/OneDrive/OneDrive Documents/Kaggle/Kaggle- Supermarket/data/transactions.csv\",\n",
    "                          parse_dates=[\"date\"])"
   ]
  },
  {
   "cell_type": "markdown",
   "metadata": {},
   "source": [
    "Calculate total # of unit sales by date"
   ]
  },
  {
   "cell_type": "code",
   "execution_count": 3,
   "metadata": {},
   "outputs": [],
   "source": [
    "data = transactions.groupby('date', as_index = False)['transactions'].sum()"
   ]
  },
  {
   "cell_type": "code",
   "execution_count": 4,
   "metadata": {},
   "outputs": [
    {
     "data": {
      "text/plain": [
       "0         770\n",
       "364      1327\n",
       "1455     1642\n",
       "728      2202\n",
       "1093    17829\n",
       "23      63705\n",
       "9       66383\n",
       "268     66914\n",
       "Name: transactions, dtype: int64"
      ]
     },
     "execution_count": 4,
     "metadata": {},
     "output_type": "execute_result"
    }
   ],
   "source": [
    "data['transactions'].nsmallest(8)"
   ]
  },
  {
   "cell_type": "markdown",
   "metadata": {},
   "source": [
    "Remove outliers"
   ]
  },
  {
   "cell_type": "code",
   "execution_count": 5,
   "metadata": {},
   "outputs": [],
   "source": [
    "#mask = data['transactions'] < 60000"
   ]
  },
  {
   "cell_type": "code",
   "execution_count": 6,
   "metadata": {},
   "outputs": [],
   "source": [
    "#data = data[~mask].reset_index(drop = True)"
   ]
  },
  {
   "cell_type": "markdown",
   "metadata": {},
   "source": [
    "#### Preprocess data"
   ]
  },
  {
   "cell_type": "markdown",
   "metadata": {},
   "source": [
    "Parse data into X and Y.  "
   ]
  },
  {
   "cell_type": "markdown",
   "metadata": {},
   "source": [
    "X: This is an (m,  Tx , 1) dimensional array. We have m training examples, each of which is a snippet of Tx sequence (timestep) of sales.  At each time step, the input is sales for the date."
   ]
  },
  {
   "cell_type": "markdown",
   "metadata": {},
   "source": [
    "Y: The data in Y has dimension (m, Ty)"
   ]
  },
  {
   "cell_type": "markdown",
   "metadata": {},
   "source": [
    "This preprocessing method take a sequence of length Tx, and then output the next length of sequences determined by Ty."
   ]
  },
  {
   "cell_type": "code",
   "execution_count": 7,
   "metadata": {},
   "outputs": [],
   "source": [
    "def data_processing(data, n_values, Tx, Ty):\n",
    "    \"\"\"\n",
    "    Function to preprocess data\n",
    "    \n",
    "    Arguments:\n",
    "    data -- data\n",
    "    m -- number of samples\n",
    "    n_values -- # of dimensions of each value\n",
    "    Tx -- length of sequence of X\n",
    "    Ty -- length of sequence of Y\n",
    "    \n",
    "    Returns:\n",
    "    Array X and Array Y\n",
    "    \"\"\"\n",
    "    \n",
    "    m = int((data.shape[0])/(Tx + Ty))\n",
    "    \n",
    "    # make empty array to store data\n",
    "    X = np.zeros((m, Tx, n_values))\n",
    "    Y = np.zeros((m, Ty))\n",
    "\n",
    "    # initialize counters\n",
    "    X_start = 0\n",
    "    Y_start = 0\n",
    "    \n",
    "    for i in range(m):\n",
    "        #print('sample:', i)\n",
    "        Y_start = X_start+Tx\n",
    "        xobs = X_start\n",
    "        yobs = Y_start\n",
    "\n",
    "        for tx in range(Tx):\n",
    "            #print('tx:', tx)\n",
    "            X[i, tx, 0] = data.iloc[xobs, 1]\n",
    "            #print('X for i, tx:', X[i, tx, 0] )\n",
    "            xobs+=1\n",
    "            #print('xobs at the end:', xobs)\n",
    "\n",
    "        for ty in range(Ty):\n",
    "            #print('ty:', ty)\n",
    "            Y[i, ty] = data.iloc[yobs, 1]\n",
    "            #print('Y for i, ty:', Y[i, ty, 0] )\n",
    "            yobs+=1\n",
    "            #print('yobs at the end:', yobs)\n",
    "    \n",
    "        X_start = Y_start+Ty\n",
    "    \n",
    "    #Y = np.swapaxes(Y,0,1)\n",
    "    #Y = Y.tolist()\n",
    "    return np.asarray(X), np.asarray(Y)"
   ]
  },
  {
   "cell_type": "code",
   "execution_count": 8,
   "metadata": {},
   "outputs": [],
   "source": [
    "def data_processing_redundant(data, Tx):\n",
    "    \n",
    "    '''cut the data into sequences of Tx values\n",
    "    '''\n",
    "    m = len(data)-Tx\n",
    "    \n",
    "    # make empty array to store data\n",
    "    X = np.zeros((m, Tx, 1))\n",
    "    Y = np.zeros((m, 1))\n",
    "    \n",
    "    for i in range(m):\n",
    "        xobs = i\n",
    "        yobs = i+Tx\n",
    "        \n",
    "        for tx in range(Tx):\n",
    "            X[i, tx, 0] = data.iloc[xobs, 1]\n",
    "            xobs+=1\n",
    "\n",
    "        Y[i, 0] = data.iloc[yobs, 1]\n",
    "    \n",
    "    return np.asarray(X), np.asarray(Y)"
   ]
  },
  {
   "cell_type": "markdown",
   "metadata": {},
   "source": [
    "### Scale data and divide dataset"
   ]
  },
  {
   "cell_type": "markdown",
   "metadata": {},
   "source": [
    "Divide dataset in to train, valid, test"
   ]
  },
  {
   "cell_type": "code",
   "execution_count": 9,
   "metadata": {},
   "outputs": [
    {
     "name": "stdout",
     "output_type": "stream",
     "text": [
      "total rows:  1682\n"
     ]
    }
   ],
   "source": [
    "sampleRate = [0.8, 0.1, 0.1]\n",
    "m = data.shape[0]\n",
    "print('total rows: ', m)"
   ]
  },
  {
   "cell_type": "markdown",
   "metadata": {},
   "source": [
    "Set sequence length"
   ]
  },
  {
   "cell_type": "code",
   "execution_count": 10,
   "metadata": {},
   "outputs": [],
   "source": [
    "Tx = 28"
   ]
  },
  {
   "cell_type": "code",
   "execution_count": 11,
   "metadata": {},
   "outputs": [],
   "source": [
    "X_train_unscaled, Y_train_unscaled = data_processing_redundant(data.iloc[0:round(m*sampleRate[0])], Tx = Tx)\n",
    "X_valid_unscaled, Y_valid_unscaled = data_processing_redundant(data.iloc[round(m*sampleRate[0]):round(m*(sampleRate[0]+sampleRate[1])) ], Tx = Tx)\n",
    "X_test_unscaled, Y_test_unscaled = data_processing_redundant(data.iloc[round(m*(sampleRate[0]+sampleRate[1])):], Tx = Tx)"
   ]
  },
  {
   "cell_type": "code",
   "execution_count": 12,
   "metadata": {},
   "outputs": [
    {
     "name": "stdout",
     "output_type": "stream",
     "text": [
      "(1318, 28, 1)\n",
      "(140, 28, 1)\n",
      "(140, 28, 1)\n"
     ]
    }
   ],
   "source": [
    "print(X_train_unscaled.shape)\n",
    "print(X_valid_unscaled.shape)\n",
    "print(X_test_unscaled.shape)"
   ]
  },
  {
   "cell_type": "code",
   "execution_count": 13,
   "metadata": {},
   "outputs": [],
   "source": [
    "scale_min= data.iloc[0:round(m*sampleRate[0]),1].min()\n",
    "scale_max= data.iloc[0:round(m*sampleRate[0]),1].max()\n",
    "scale_diff = scale_max - scale_min"
   ]
  },
  {
   "cell_type": "code",
   "execution_count": 14,
   "metadata": {},
   "outputs": [],
   "source": [
    "data_scaled = data\n",
    "data_scaled['transactions'] = (data_scaled['transactions'] - scale_min)/ scale_diff"
   ]
  },
  {
   "cell_type": "code",
   "execution_count": 15,
   "metadata": {},
   "outputs": [],
   "source": [
    "X_train, Y_train = data_processing_redundant(data_scaled.iloc[0:round(m*sampleRate[0])], Tx = Tx)\n",
    "X_valid, Y_valid = data_processing_redundant(data_scaled.iloc[round(m*sampleRate[0]):round(m*(sampleRate[0]+sampleRate[1])) ], Tx = Tx)\n",
    "X_test, Y_test = data_processing_redundant(data_scaled.iloc[round(m*(sampleRate[0]+sampleRate[1])):], Tx = Tx)"
   ]
  },
  {
   "cell_type": "code",
   "execution_count": 16,
   "metadata": {},
   "outputs": [
    {
     "name": "stdout",
     "output_type": "stream",
     "text": [
      "X_train shape: (1318, 28, 1)\n",
      "X_test shape: (140, 28, 1)\n",
      "Y_train shape: (1318, 1)\n",
      "Y_test shape: (140, 1)\n",
      "sample X_train unscaled: [[  770.]\n",
      " [93215.]\n",
      " [78504.]\n",
      " [78494.]\n",
      " [93573.]]\n",
      "sample X_train scaled: [[0.        ]\n",
      " [0.54252079]\n",
      " [0.45618812]\n",
      " [0.45612944]\n",
      " [0.54462174]]\n"
     ]
    }
   ],
   "source": [
    "print('X_train shape:', X_train.shape)\n",
    "print('X_test shape:',X_test.shape)\n",
    "print('Y_train shape:',Y_train.shape)\n",
    "print('Y_test shape:',Y_test.shape)\n",
    "print('sample X_train unscaled:', X_train_unscaled[0][:5])\n",
    "print('sample X_train scaled:', X_train[0][:5])"
   ]
  },
  {
   "cell_type": "markdown",
   "metadata": {},
   "source": [
    "### Model - sequence to one"
   ]
  },
  {
   "cell_type": "code",
   "execution_count": 45,
   "metadata": {},
   "outputs": [],
   "source": [
    "def model_seq_to_one(Tx, n_a1, n_a2, n_values):\n",
    "    \"\"\"\n",
    "    Function creating the model's graph.\n",
    "    \n",
    "    Arguments:\n",
    "    input_shape -- shape of the input, usually (max_len,)\n",
    "    n_a1 -- # of hidden units for LSTM layer 1\n",
    "    n_a2 -- # of hidden units for LSTM layer 2\n",
    "    n_values -- # of dimensions \n",
    "\n",
    "    Returns:\n",
    "    model -- a model instance in Keras\n",
    "    \"\"\"\n",
    "    \n",
    "\n",
    "    # Define input of the graph\n",
    "    X = Input(shape=(Tx, n_values), name='InputLayer')\n",
    "    \n",
    "    # Propagate the embeddings through an LSTM layer with 128-dimensional hidden state\n",
    "    # The returned output should be a batch of sequences.\n",
    "    x = LSTM(n_a1, return_sequences = True, name = 'LSTM_1')(X)\n",
    "    \n",
    "    # Add dropout with a probability\n",
    "    x = Dropout(0.5, name = 'Dropout_1')(x)\n",
    "    \n",
    "    # Propagate X trough another LSTM layer with 128-dimensional hidden state\n",
    "    # The returned output should be a single hidden state, not a batch of sequences.\n",
    "    x = LSTM(n_a2, return_sequences = False, name = 'LSTM_2')(x)\n",
    "    \n",
    "    # Add dropout with a probability\n",
    "    x = Dropout(0.5, name = 'Dropout_2')(x)\n",
    "    \n",
    "    # Propagate X through a Dense layer\n",
    "    x = Dense(n_values, activation = 'relu', name = 'Dense_1')(x)\n",
    "    \n",
    "    # Create Model instance .\n",
    "    model = Model(inputs= X, outputs = x, name='seq_to_one_model')\n",
    "    \n",
    "    ### END CODE HERE ###\n",
    "    \n",
    "    return model"
   ]
  },
  {
   "cell_type": "code",
   "execution_count": 62,
   "metadata": {},
   "outputs": [
    {
     "name": "stdout",
     "output_type": "stream",
     "text": [
      "_________________________________________________________________\n",
      "Layer (type)                 Output Shape              Param #   \n",
      "=================================================================\n",
      "InputLayer (InputLayer)      (None, 28, 1)             0         \n",
      "_________________________________________________________________\n",
      "LSTM_1 (LSTM)                (None, 28, 64)            16896     \n",
      "_________________________________________________________________\n",
      "Dropout_1 (Dropout)          (None, 28, 64)            0         \n",
      "_________________________________________________________________\n",
      "LSTM_2 (LSTM)                (None, 64)                33024     \n",
      "_________________________________________________________________\n",
      "Dropout_2 (Dropout)          (None, 64)                0         \n",
      "_________________________________________________________________\n",
      "Dense_1 (Dense)              (None, 1)                 65        \n",
      "=================================================================\n",
      "Total params: 49,985\n",
      "Trainable params: 49,985\n",
      "Non-trainable params: 0\n",
      "_________________________________________________________________\n"
     ]
    }
   ],
   "source": [
    "model = model_seq_to_one(Tx = Tx, n_a1 = 64, n_a2 = 64, n_values=1)\n",
    "model.summary()"
   ]
  },
  {
   "cell_type": "markdown",
   "metadata": {},
   "source": [
    "Compile model and define what loss, optimizer and metrics to use"
   ]
  },
  {
   "cell_type": "code",
   "execution_count": 63,
   "metadata": {},
   "outputs": [],
   "source": [
    "opt = Adam(lr=0.01, beta_1=0.9, beta_2=0.999, decay=0.01)\n",
    "model.compile(optimizer= opt, loss='mean_squared_error', metrics=['mae'])"
   ]
  },
  {
   "cell_type": "markdown",
   "metadata": {},
   "source": [
    "Fit the Keras model on X_train and Y_train"
   ]
  },
  {
   "cell_type": "code",
   "execution_count": 64,
   "metadata": {},
   "outputs": [
    {
     "name": "stdout",
     "output_type": "stream",
     "text": [
      "Train on 1318 samples, validate on 140 samples\n",
      "Epoch 1/20\n",
      "1318/1318 [==============================] - 4s 3ms/step - loss: 0.0243 - mean_absolute_error: 0.1121 - val_loss: 0.0088 - val_mean_absolute_error: 0.0596\n",
      "Epoch 2/20\n",
      "1318/1318 [==============================] - 1s 934us/step - loss: 0.0085 - mean_absolute_error: 0.0712 - val_loss: 0.0090 - val_mean_absolute_error: 0.0602\n",
      "Epoch 3/20\n",
      "1318/1318 [==============================] - 1s 921us/step - loss: 0.0075 - mean_absolute_error: 0.0653 - val_loss: 0.0102 - val_mean_absolute_error: 0.0629\n",
      "Epoch 4/20\n",
      "1318/1318 [==============================] - 1s 963us/step - loss: 0.0071 - mean_absolute_error: 0.0644 - val_loss: 0.0092 - val_mean_absolute_error: 0.0606\n",
      "Epoch 5/20\n",
      "1318/1318 [==============================] - 1s 923us/step - loss: 0.0066 - mean_absolute_error: 0.0595 - val_loss: 0.0097 - val_mean_absolute_error: 0.0612\n",
      "Epoch 6/20\n",
      "1318/1318 [==============================] - 1s 898us/step - loss: 0.0064 - mean_absolute_error: 0.0592 - val_loss: 0.0090 - val_mean_absolute_error: 0.0606\n",
      "Epoch 7/20\n",
      "1318/1318 [==============================] - 1s 902us/step - loss: 0.0062 - mean_absolute_error: 0.0585 - val_loss: 0.0099 - val_mean_absolute_error: 0.0618\n",
      "Epoch 8/20\n",
      "1318/1318 [==============================] - 1s 899us/step - loss: 0.0060 - mean_absolute_error: 0.0573 - val_loss: 0.0092 - val_mean_absolute_error: 0.0606\n",
      "Epoch 9/20\n",
      "1318/1318 [==============================] - 1s 927us/step - loss: 0.0061 - mean_absolute_error: 0.0575 - val_loss: 0.0092 - val_mean_absolute_error: 0.0606\n",
      "Epoch 10/20\n",
      "1318/1318 [==============================] - 1s 1ms/step - loss: 0.0059 - mean_absolute_error: 0.0563 - val_loss: 0.0092 - val_mean_absolute_error: 0.0606\n",
      "Epoch 11/20\n",
      "1318/1318 [==============================] - 1s 1ms/step - loss: 0.0056 - mean_absolute_error: 0.0553 - val_loss: 0.0095 - val_mean_absolute_error: 0.0607\n",
      "Epoch 12/20\n",
      "1318/1318 [==============================] - 1s 956us/step - loss: 0.0056 - mean_absolute_error: 0.0549 - val_loss: 0.0094 - val_mean_absolute_error: 0.0606\n",
      "Epoch 13/20\n",
      "1318/1318 [==============================] - 1s 940us/step - loss: 0.0056 - mean_absolute_error: 0.0551 - val_loss: 0.0095 - val_mean_absolute_error: 0.0607\n",
      "Epoch 14/20\n",
      "1318/1318 [==============================] - 1s 925us/step - loss: 0.0054 - mean_absolute_error: 0.0544 - val_loss: 0.0092 - val_mean_absolute_error: 0.0604\n",
      "Epoch 15/20\n",
      "1318/1318 [==============================] - 1s 906us/step - loss: 0.0056 - mean_absolute_error: 0.0555 - val_loss: 0.0094 - val_mean_absolute_error: 0.0605\n",
      "Epoch 16/20\n",
      "1318/1318 [==============================] - 1s 968us/step - loss: 0.0056 - mean_absolute_error: 0.0545 - val_loss: 0.0100 - val_mean_absolute_error: 0.0620\n",
      "Epoch 17/20\n",
      "1318/1318 [==============================] - 1s 910us/step - loss: 0.0053 - mean_absolute_error: 0.0538 - val_loss: 0.0100 - val_mean_absolute_error: 0.0621\n",
      "Epoch 18/20\n",
      "1318/1318 [==============================] - 1s 907us/step - loss: 0.0052 - mean_absolute_error: 0.0538 - val_loss: 0.0099 - val_mean_absolute_error: 0.0617\n",
      "Epoch 19/20\n",
      "1318/1318 [==============================] - 1s 925us/step - loss: 0.0053 - mean_absolute_error: 0.0529 - val_loss: 0.0098 - val_mean_absolute_error: 0.0614\n",
      "Epoch 20/20\n",
      "1318/1318 [==============================] - 1s 898us/step - loss: 0.0051 - mean_absolute_error: 0.0531 - val_loss: 0.0100 - val_mean_absolute_error: 0.0622\n"
     ]
    },
    {
     "data": {
      "text/plain": [
       "<keras.callbacks.History at 0x228163c4b70>"
      ]
     },
     "execution_count": 64,
     "metadata": {},
     "output_type": "execute_result"
    }
   ],
   "source": [
    "model.fit(X_train, Y_train, epochs = 20 , batch_size = 50, validation_data = (X_valid, Y_valid))"
   ]
  },
  {
   "cell_type": "code",
   "execution_count": 65,
   "metadata": {},
   "outputs": [
    {
     "name": "stdout",
     "output_type": "stream",
     "text": [
      "140/140 [==============================] - 0s 344us/step\n",
      "loss=  0.004234589164012245\n",
      "mae=  0.04521065705588886\n"
     ]
    }
   ],
   "source": [
    "loss, mae = model.evaluate(X_test, Y_test)\n",
    "print(\"loss= \", loss)\n",
    "print(\"mae= \", mae)"
   ]
  },
  {
   "cell_type": "markdown",
   "metadata": {},
   "source": [
    "### Evaluate accurancy of predictions"
   ]
  },
  {
   "cell_type": "code",
   "execution_count": 66,
   "metadata": {},
   "outputs": [],
   "source": [
    "pred = model.predict(X_test)"
   ]
  },
  {
   "cell_type": "code",
   "execution_count": 67,
   "metadata": {},
   "outputs": [],
   "source": [
    "pred_unscaled = (scale_diff*pred) + scale_min"
   ]
  },
  {
   "cell_type": "markdown",
   "metadata": {},
   "source": [
    "#### Test set performance"
   ]
  },
  {
   "cell_type": "code",
   "execution_count": 68,
   "metadata": {},
   "outputs": [
    {
     "data": {
      "text/plain": [
       "<matplotlib.legend.Legend at 0x2281b41fb70>"
      ]
     },
     "execution_count": 68,
     "metadata": {},
     "output_type": "execute_result"
    },
    {
     "data": {
      "image/png": "[encoded data removed]",
      "text/plain": [
       "<matplotlib.figure.Figure at 0x2281b40d2e8>"
      ]
     },
     "metadata": {},
     "output_type": "display_data"
    }
   ],
   "source": [
    "plt.plot(Y_test_unscaled)\n",
    "plt.plot(pred_unscaled)\n",
    "plt.legend(['actual', 'prediction'], loc='upper right')"
   ]
  },
  {
   "cell_type": "markdown",
   "metadata": {},
   "source": [
    "#### Training set performance"
   ]
  },
  {
   "cell_type": "code",
   "execution_count": 69,
   "metadata": {},
   "outputs": [
    {
     "data": {
      "text/plain": [
       "<matplotlib.legend.Legend at 0x2281b66aac8>"
      ]
     },
     "execution_count": 69,
     "metadata": {},
     "output_type": "execute_result"
    },
    {
     "data": {
      "image/png": "[encoded data removed]",
      "text/plain": [
       "<matplotlib.figure.Figure at 0x2281b4107b8>"
      ]
     },
     "metadata": {},
     "output_type": "display_data"
    }
   ],
   "source": [
    "pred = model.predict(X_train)\n",
    "pred_unscaled = (scale_diff*pred) + scale_min\n",
    "plt.plot(Y_train_unscaled)\n",
    "plt.plot(pred_unscaled)\n",
    "plt.legend(['actual', 'prediction'], loc='upper right')"
   ]
  },
  {
   "cell_type": "markdown",
   "metadata": {},
   "source": [
    "#### Generate sequence of predictions for the test set"
   ]
  },
  {
   "cell_type": "markdown",
   "metadata": {},
   "source": [
    "Generate sequence of predictions starting from the last observation in the validation set. "
   ]
  },
  {
   "cell_type": "code",
   "execution_count": 70,
   "metadata": {},
   "outputs": [],
   "source": [
    "newX = np.zeros((1, Tx, 1))\n",
    "lastX = X_valid[[-1]]\n",
    "predictions = []\n",
    "\n",
    "for i in range(len(X_test)):\n",
    "    pred = model.predict(lastX)\n",
    "    \n",
    "    for tx in range(Tx):\n",
    "        if tx < Tx-1:\n",
    "            newX[0, tx, 0] = lastX[0][tx+1]\n",
    "        else:\n",
    "            newX[0, tx, 0] = pred[0][0]\n",
    "    predictions.append(pred[0][0])\n",
    "    lastX = newX\n",
    "    "
   ]
  },
  {
   "cell_type": "code",
   "execution_count": 71,
   "metadata": {},
   "outputs": [],
   "source": [
    "pred = pd.DataFrame(data= predictions, columns=['unscaled_pred'])\n",
    "pred['scaled_actual'] = Y_test_unscaled"
   ]
  },
  {
   "cell_type": "code",
   "execution_count": 72,
   "metadata": {},
   "outputs": [],
   "source": [
    "pred['scaled_pred'] = (pred['unscaled_pred']*scale_diff) + scale_min"
   ]
  },
  {
   "cell_type": "code",
   "execution_count": 73,
   "metadata": {},
   "outputs": [
    {
     "data": {
      "text/html": [
       "<div>\n",
       "<style scoped>\n",
       "    .dataframe tbody tr th:only-of-type {\n",
       "        vertical-align: middle;\n",
       "    }\n",
       "\n",
       "    .dataframe tbody tr th {\n",
       "        vertical-align: top;\n",
       "    }\n",
       "\n",
       "    .dataframe thead th {\n",
       "        text-align: right;\n",
       "    }\n",
       "</style>\n",
       "<table border=\"1\" class=\"dataframe\">\n",
       "  <thead>\n",
       "    <tr style=\"text-align: right;\">\n",
       "      <th></th>\n",
       "      <th>unscaled_pred</th>\n",
       "      <th>scaled_actual</th>\n",
       "      <th>scaled_pred</th>\n",
       "    </tr>\n",
       "  </thead>\n",
       "  <tbody>\n",
       "    <tr>\n",
       "      <th>0</th>\n",
       "      <td>0.474385</td>\n",
       "      <td>81918.0</td>\n",
       "      <td>81604.794494</td>\n",
       "    </tr>\n",
       "    <tr>\n",
       "      <th>1</th>\n",
       "      <td>0.472003</td>\n",
       "      <td>75304.0</td>\n",
       "      <td>81198.907412</td>\n",
       "    </tr>\n",
       "    <tr>\n",
       "      <th>2</th>\n",
       "      <td>0.470150</td>\n",
       "      <td>87034.0</td>\n",
       "      <td>80883.098967</td>\n",
       "    </tr>\n",
       "    <tr>\n",
       "      <th>3</th>\n",
       "      <td>0.468735</td>\n",
       "      <td>113083.0</td>\n",
       "      <td>80641.981950</td>\n",
       "    </tr>\n",
       "    <tr>\n",
       "      <th>4</th>\n",
       "      <td>0.467658</td>\n",
       "      <td>94696.0</td>\n",
       "      <td>80458.533949</td>\n",
       "    </tr>\n",
       "  </tbody>\n",
       "</table>\n",
       "</div>"
      ],
      "text/plain": [
       "   unscaled_pred  scaled_actual   scaled_pred\n",
       "0       0.474385        81918.0  81604.794494\n",
       "1       0.472003        75304.0  81198.907412\n",
       "2       0.470150        87034.0  80883.098967\n",
       "3       0.468735       113083.0  80641.981950\n",
       "4       0.467658        94696.0  80458.533949"
      ]
     },
     "execution_count": 73,
     "metadata": {},
     "output_type": "execute_result"
    }
   ],
   "source": [
    "pred.head()"
   ]
  },
  {
   "cell_type": "code",
   "execution_count": 74,
   "metadata": {},
   "outputs": [
    {
     "data": {
      "text/plain": [
       "<matplotlib.legend.Legend at 0x2281b5fd780>"
      ]
     },
     "execution_count": 74,
     "metadata": {},
     "output_type": "execute_result"
    },
    {
     "data": {
      "image/png": "[encoded data removed]",
      "text/plain": [
       "<matplotlib.figure.Figure at 0x2281bac24e0>"
      ]
     },
     "metadata": {},
     "output_type": "display_data"
    }
   ],
   "source": [
    "plt.plot(pred['scaled_actual'])\n",
    "plt.plot(pred['scaled_pred'])\n",
    "plt.legend(['actual', 'prediction'], loc='upper right')"
   ]
  },
  {
   "cell_type": "code",
   "execution_count": null,
   "metadata": {},
   "outputs": [],
   "source": []
  },
  {
   "cell_type": "code",
   "execution_count": null,
   "metadata": {},
   "outputs": [],
   "source": []
  },
  {
   "cell_type": "code",
   "execution_count": null,
   "metadata": {},
   "outputs": [],
   "source": []
  },
  {
   "cell_type": "code",
   "execution_count": null,
   "metadata": {},
   "outputs": [],
   "source": []
  },
  {
   "cell_type": "code",
   "execution_count": null,
   "metadata": {},
   "outputs": [],
   "source": []
  },
  {
   "cell_type": "code",
   "execution_count": null,
   "metadata": {},
   "outputs": [],
   "source": []
  },
  {
   "cell_type": "code",
   "execution_count": null,
   "metadata": {},
   "outputs": [],
   "source": []
  },
  {
   "cell_type": "markdown",
   "metadata": {},
   "source": [
    "### Building the model"
   ]
  },
  {
   "cell_type": "markdown",
   "metadata": {},
   "source": [
    "Build a model that takes in X of shape(m,Tx,1) and Y of shape (Ty,m,1) with number of hidden states defined by n_a and number of dimensions of data by n_values"
   ]
  },
  {
   "cell_type": "code",
   "execution_count": 31,
   "metadata": {},
   "outputs": [],
   "source": [
    "n_a = 64 \n",
    "n_values = 1 "
   ]
  },
  {
   "cell_type": "markdown",
   "metadata": {},
   "source": [
    "Define the layer objects for the lstm_model."
   ]
  },
  {
   "cell_type": "code",
   "execution_count": 32,
   "metadata": {},
   "outputs": [],
   "source": [
    "reshapor = Reshape((1, 1)) #Reshape((1, n_values))                    \n",
    "LSTM_cell = LSTM(n_a, return_state = True)        \n",
    "densor = Dense(n_values, activation='linear')  "
   ]
  },
  {
   "cell_type": "markdown",
   "metadata": {},
   "source": [
    "The function lstm_model() will call the LSTM layer Tx times using a for-loop.  The  Tx  steps should have shared weights. "
   ]
  },
  {
   "cell_type": "code",
   "execution_count": 33,
   "metadata": {},
   "outputs": [],
   "source": [
    "def lstm_model(Tx, n_a, n_values):\n",
    "    \"\"\"\n",
    "    Implement the model\n",
    "    \n",
    "    Arguments:\n",
    "    Tx -- length of the sequence in a corpus\n",
    "    n_a -- the number of activations used in our model\n",
    "    n_values -- numer of values\n",
    "    \n",
    "    Returns:\n",
    "    model -- a keras model with the \n",
    "    \"\"\"\n",
    "    \n",
    "    # Define the input of your model with a shape \n",
    "    X = Input(shape=(Tx, n_values))  # n_values is number of dimensions\n",
    "    \n",
    "    # Define s0, initial hidden state for the decoder LSTM\n",
    "    a0 = Input(shape=(n_a,), name='a0')\n",
    "    c0 = Input(shape=(n_a,), name='c0')\n",
    "    a = a0\n",
    "    c = c0\n",
    "    \n",
    "    # Step 1: Create empty list to append the outputs while you iterate\n",
    "    outputs = []\n",
    "    \n",
    "    # Step 2: Loop\n",
    "    for t in range(Tx):\n",
    "        \n",
    "        # Step 2.A: select the \"t\"th time step vector from X. \n",
    "        x = Lambda(lambda x: X[:,t,:])(X)\n",
    "        # Step 2.B: Use reshapor to reshape x to be (1, n_values)\n",
    "        x = reshapor(x)\n",
    "        # Step 2.C: Perform one step of the LSTM_cell\n",
    "        a, _, c = LSTM_cell(x, initial_state=[a, c])\n",
    "        # Step 2.D: Apply densor to the hidden state output of LSTM_Cell\n",
    "        out = densor(a)  \n",
    "        # Step 2.E: add the output to \"outputs\"\n",
    "        outputs.append(out)\n",
    "        \n",
    "    # Step 3: Create model instance\n",
    "    model = Model(inputs = [X, a0, c0], outputs = outputs, name='lstm_model')\n",
    "    \n",
    "    return model"
   ]
  },
  {
   "cell_type": "code",
   "execution_count": 34,
   "metadata": {},
   "outputs": [],
   "source": [
    "model = lstm_model(Tx = Tx , n_a = n_a, n_values = n_values)"
   ]
  },
  {
   "cell_type": "code",
   "execution_count": 35,
   "metadata": {},
   "outputs": [
    {
     "name": "stdout",
     "output_type": "stream",
     "text": [
      "__________________________________________________________________________________________________\n",
      "Layer (type)                    Output Shape         Param #     Connected to                     \n",
      "==================================================================================================\n",
      "input_1 (InputLayer)            (None, 28, 1)        0                                            \n",
      "__________________________________________________________________________________________________\n",
      "lambda_1 (Lambda)               (None, 1)            0           input_1[0][0]                    \n",
      "__________________________________________________________________________________________________\n",
      "reshape_1 (Reshape)             (None, 1, 1)         0           lambda_1[0][0]                   \n",
      "                                                                 lambda_2[0][0]                   \n",
      "                                                                 lambda_3[0][0]                   \n",
      "                                                                 lambda_4[0][0]                   \n",
      "                                                                 lambda_5[0][0]                   \n",
      "                                                                 lambda_6[0][0]                   \n",
      "                                                                 lambda_7[0][0]                   \n",
      "                                                                 lambda_8[0][0]                   \n",
      "                                                                 lambda_9[0][0]                   \n",
      "                                                                 lambda_10[0][0]                  \n",
      "                                                                 lambda_11[0][0]                  \n",
      "                                                                 lambda_12[0][0]                  \n",
      "                                                                 lambda_13[0][0]                  \n",
      "                                                                 lambda_14[0][0]                  \n",
      "                                                                 lambda_15[0][0]                  \n",
      "                                                                 lambda_16[0][0]                  \n",
      "                                                                 lambda_17[0][0]                  \n",
      "                                                                 lambda_18[0][0]                  \n",
      "                                                                 lambda_19[0][0]                  \n",
      "                                                                 lambda_20[0][0]                  \n",
      "                                                                 lambda_21[0][0]                  \n",
      "                                                                 lambda_22[0][0]                  \n",
      "                                                                 lambda_23[0][0]                  \n",
      "                                                                 lambda_24[0][0]                  \n",
      "                                                                 lambda_25[0][0]                  \n",
      "                                                                 lambda_26[0][0]                  \n",
      "                                                                 lambda_27[0][0]                  \n",
      "                                                                 lambda_28[0][0]                  \n",
      "__________________________________________________________________________________________________\n",
      "a0 (InputLayer)                 (None, 64)           0                                            \n",
      "__________________________________________________________________________________________________\n",
      "c0 (InputLayer)                 (None, 64)           0                                            \n",
      "__________________________________________________________________________________________________\n",
      "lambda_2 (Lambda)               (None, 1)            0           input_1[0][0]                    \n",
      "__________________________________________________________________________________________________\n",
      "lstm_1 (LSTM)                   [(None, 64), (None,  16896       reshape_1[0][0]                  \n",
      "                                                                 a0[0][0]                         \n",
      "                                                                 c0[0][0]                         \n",
      "                                                                 reshape_1[1][0]                  \n",
      "                                                                 lstm_1[0][0]                     \n",
      "                                                                 lstm_1[0][2]                     \n",
      "                                                                 reshape_1[2][0]                  \n",
      "                                                                 lstm_1[1][0]                     \n",
      "                                                                 lstm_1[1][2]                     \n",
      "                                                                 reshape_1[3][0]                  \n",
      "                                                                 lstm_1[2][0]                     \n",
      "                                                                 lstm_1[2][2]                     \n",
      "                                                                 reshape_1[4][0]                  \n",
      "                                                                 lstm_1[3][0]                     \n",
      "                                                                 lstm_1[3][2]                     \n",
      "                                                                 reshape_1[5][0]                  \n",
      "                                                                 lstm_1[4][0]                     \n",
      "                                                                 lstm_1[4][2]                     \n",
      "                                                                 reshape_1[6][0]                  \n",
      "                                                                 lstm_1[5][0]                     \n",
      "                                                                 lstm_1[5][2]                     \n",
      "                                                                 reshape_1[7][0]                  \n",
      "                                                                 lstm_1[6][0]                     \n",
      "                                                                 lstm_1[6][2]                     \n",
      "                                                                 reshape_1[8][0]                  \n",
      "                                                                 lstm_1[7][0]                     \n",
      "                                                                 lstm_1[7][2]                     \n",
      "                                                                 reshape_1[9][0]                  \n",
      "                                                                 lstm_1[8][0]                     \n",
      "                                                                 lstm_1[8][2]                     \n",
      "                                                                 reshape_1[10][0]                 \n",
      "                                                                 lstm_1[9][0]                     \n",
      "                                                                 lstm_1[9][2]                     \n",
      "                                                                 reshape_1[11][0]                 \n",
      "                                                                 lstm_1[10][0]                    \n",
      "                                                                 lstm_1[10][2]                    \n",
      "                                                                 reshape_1[12][0]                 \n",
      "                                                                 lstm_1[11][0]                    \n",
      "                                                                 lstm_1[11][2]                    \n",
      "                                                                 reshape_1[13][0]                 \n",
      "                                                                 lstm_1[12][0]                    \n",
      "                                                                 lstm_1[12][2]                    \n",
      "                                                                 reshape_1[14][0]                 \n",
      "                                                                 lstm_1[13][0]                    \n",
      "                                                                 lstm_1[13][2]                    \n",
      "                                                                 reshape_1[15][0]                 \n",
      "                                                                 lstm_1[14][0]                    \n",
      "                                                                 lstm_1[14][2]                    \n",
      "                                                                 reshape_1[16][0]                 \n",
      "                                                                 lstm_1[15][0]                    \n",
      "                                                                 lstm_1[15][2]                    \n",
      "                                                                 reshape_1[17][0]                 \n",
      "                                                                 lstm_1[16][0]                    \n",
      "                                                                 lstm_1[16][2]                    \n",
      "                                                                 reshape_1[18][0]                 \n",
      "                                                                 lstm_1[17][0]                    \n",
      "                                                                 lstm_1[17][2]                    \n",
      "                                                                 reshape_1[19][0]                 \n",
      "                                                                 lstm_1[18][0]                    \n",
      "                                                                 lstm_1[18][2]                    \n",
      "                                                                 reshape_1[20][0]                 \n",
      "                                                                 lstm_1[19][0]                    \n",
      "                                                                 lstm_1[19][2]                    \n",
      "                                                                 reshape_1[21][0]                 \n",
      "                                                                 lstm_1[20][0]                    \n",
      "                                                                 lstm_1[20][2]                    \n",
      "                                                                 reshape_1[22][0]                 \n",
      "                                                                 lstm_1[21][0]                    \n",
      "                                                                 lstm_1[21][2]                    \n",
      "                                                                 reshape_1[23][0]                 \n",
      "                                                                 lstm_1[22][0]                    \n",
      "                                                                 lstm_1[22][2]                    \n",
      "                                                                 reshape_1[24][0]                 \n",
      "                                                                 lstm_1[23][0]                    \n",
      "                                                                 lstm_1[23][2]                    \n",
      "                                                                 reshape_1[25][0]                 \n",
      "                                                                 lstm_1[24][0]                    \n",
      "                                                                 lstm_1[24][2]                    \n",
      "                                                                 reshape_1[26][0]                 \n",
      "                                                                 lstm_1[25][0]                    \n",
      "                                                                 lstm_1[25][2]                    \n",
      "                                                                 reshape_1[27][0]                 \n",
      "                                                                 lstm_1[26][0]                    \n",
      "                                                                 lstm_1[26][2]                    \n",
      "__________________________________________________________________________________________________\n",
      "lambda_3 (Lambda)               (None, 1)            0           input_1[0][0]                    \n",
      "__________________________________________________________________________________________________\n",
      "lambda_4 (Lambda)               (None, 1)            0           input_1[0][0]                    \n",
      "__________________________________________________________________________________________________\n",
      "lambda_5 (Lambda)               (None, 1)            0           input_1[0][0]                    \n",
      "__________________________________________________________________________________________________\n",
      "lambda_6 (Lambda)               (None, 1)            0           input_1[0][0]                    \n",
      "__________________________________________________________________________________________________\n",
      "lambda_7 (Lambda)               (None, 1)            0           input_1[0][0]                    \n",
      "__________________________________________________________________________________________________\n",
      "lambda_8 (Lambda)               (None, 1)            0           input_1[0][0]                    \n",
      "__________________________________________________________________________________________________\n",
      "lambda_9 (Lambda)               (None, 1)            0           input_1[0][0]                    \n",
      "__________________________________________________________________________________________________\n",
      "lambda_10 (Lambda)              (None, 1)            0           input_1[0][0]                    \n",
      "__________________________________________________________________________________________________\n",
      "lambda_11 (Lambda)              (None, 1)            0           input_1[0][0]                    \n",
      "__________________________________________________________________________________________________\n",
      "lambda_12 (Lambda)              (None, 1)            0           input_1[0][0]                    \n",
      "__________________________________________________________________________________________________\n",
      "lambda_13 (Lambda)              (None, 1)            0           input_1[0][0]                    \n",
      "__________________________________________________________________________________________________\n",
      "lambda_14 (Lambda)              (None, 1)            0           input_1[0][0]                    \n",
      "__________________________________________________________________________________________________\n",
      "lambda_15 (Lambda)              (None, 1)            0           input_1[0][0]                    \n",
      "__________________________________________________________________________________________________\n",
      "lambda_16 (Lambda)              (None, 1)            0           input_1[0][0]                    \n",
      "__________________________________________________________________________________________________\n",
      "lambda_17 (Lambda)              (None, 1)            0           input_1[0][0]                    \n",
      "__________________________________________________________________________________________________\n",
      "lambda_18 (Lambda)              (None, 1)            0           input_1[0][0]                    \n",
      "__________________________________________________________________________________________________\n",
      "lambda_19 (Lambda)              (None, 1)            0           input_1[0][0]                    \n",
      "__________________________________________________________________________________________________\n",
      "lambda_20 (Lambda)              (None, 1)            0           input_1[0][0]                    \n",
      "__________________________________________________________________________________________________\n",
      "lambda_21 (Lambda)              (None, 1)            0           input_1[0][0]                    \n",
      "__________________________________________________________________________________________________\n",
      "lambda_22 (Lambda)              (None, 1)            0           input_1[0][0]                    \n",
      "__________________________________________________________________________________________________\n",
      "lambda_23 (Lambda)              (None, 1)            0           input_1[0][0]                    \n",
      "__________________________________________________________________________________________________\n",
      "lambda_24 (Lambda)              (None, 1)            0           input_1[0][0]                    \n",
      "__________________________________________________________________________________________________\n",
      "lambda_25 (Lambda)              (None, 1)            0           input_1[0][0]                    \n",
      "__________________________________________________________________________________________________\n",
      "lambda_26 (Lambda)              (None, 1)            0           input_1[0][0]                    \n",
      "__________________________________________________________________________________________________\n",
      "lambda_27 (Lambda)              (None, 1)            0           input_1[0][0]                    \n",
      "__________________________________________________________________________________________________\n",
      "lambda_28 (Lambda)              (None, 1)            0           input_1[0][0]                    \n",
      "__________________________________________________________________________________________________\n",
      "dense_1 (Dense)                 (None, 1)            65          lstm_1[0][0]                     \n",
      "                                                                 lstm_1[1][0]                     \n",
      "                                                                 lstm_1[2][0]                     \n",
      "                                                                 lstm_1[3][0]                     \n",
      "                                                                 lstm_1[4][0]                     \n",
      "                                                                 lstm_1[5][0]                     \n",
      "                                                                 lstm_1[6][0]                     \n",
      "                                                                 lstm_1[7][0]                     \n",
      "                                                                 lstm_1[8][0]                     \n",
      "                                                                 lstm_1[9][0]                     \n",
      "                                                                 lstm_1[10][0]                    \n",
      "                                                                 lstm_1[11][0]                    \n",
      "                                                                 lstm_1[12][0]                    \n",
      "                                                                 lstm_1[13][0]                    \n",
      "                                                                 lstm_1[14][0]                    \n",
      "                                                                 lstm_1[15][0]                    \n",
      "                                                                 lstm_1[16][0]                    \n",
      "                                                                 lstm_1[17][0]                    \n",
      "                                                                 lstm_1[18][0]                    \n",
      "                                                                 lstm_1[19][0]                    \n",
      "                                                                 lstm_1[20][0]                    \n",
      "                                                                 lstm_1[21][0]                    \n",
      "                                                                 lstm_1[22][0]                    \n",
      "                                                                 lstm_1[23][0]                    \n",
      "                                                                 lstm_1[24][0]                    \n",
      "                                                                 lstm_1[25][0]                    \n",
      "                                                                 lstm_1[26][0]                    \n",
      "                                                                 lstm_1[27][0]                    \n",
      "==================================================================================================\n",
      "Total params: 16,961\n",
      "Trainable params: 16,961\n",
      "Non-trainable params: 0\n",
      "__________________________________________________________________________________________________\n"
     ]
    }
   ],
   "source": [
    "model.summary()"
   ]
  },
  {
   "cell_type": "code",
   "execution_count": 36,
   "metadata": {},
   "outputs": [],
   "source": [
    "opt = Adam(lr=0.01, beta_1=0.9, beta_2=0.999, decay=0.01)\n",
    "model.compile(optimizer=opt, loss='mean_squared_error', metrics=['mae'])"
   ]
  },
  {
   "cell_type": "code",
   "execution_count": 37,
   "metadata": {},
   "outputs": [],
   "source": [
    "a0 = np.zeros((m, n_a))\n",
    "c0 = np.zeros((m, n_a))"
   ]
  },
  {
   "cell_type": "code",
   "execution_count": 38,
   "metadata": {},
   "outputs": [
    {
     "ename": "NameError",
     "evalue": "name 'X' is not defined",
     "output_type": "error",
     "traceback": [
      "\u001b[1;31m---------------------------------------------------------------------------\u001b[0m",
      "\u001b[1;31mNameError\u001b[0m                                 Traceback (most recent call last)",
      "\u001b[1;32m<ipython-input-38-b85780813c8a>\u001b[0m in \u001b[0;36m<module>\u001b[1;34m()\u001b[0m\n\u001b[1;32m----> 1\u001b[1;33m \u001b[0mmodel\u001b[0m\u001b[1;33m.\u001b[0m\u001b[0mfit\u001b[0m\u001b[1;33m(\u001b[0m\u001b[1;33m[\u001b[0m\u001b[0mX\u001b[0m\u001b[1;33m,\u001b[0m \u001b[0ma0\u001b[0m\u001b[1;33m,\u001b[0m \u001b[0mc0\u001b[0m\u001b[1;33m]\u001b[0m\u001b[1;33m,\u001b[0m \u001b[0mlist\u001b[0m\u001b[1;33m(\u001b[0m\u001b[0mY\u001b[0m\u001b[1;33m)\u001b[0m\u001b[1;33m,\u001b[0m \u001b[0mepochs\u001b[0m\u001b[1;33m=\u001b[0m\u001b[1;36m100\u001b[0m\u001b[1;33m)\u001b[0m\u001b[1;33m\u001b[0m\u001b[0m\n\u001b[0m",
      "\u001b[1;31mNameError\u001b[0m: name 'X' is not defined"
     ]
    }
   ],
   "source": [
    "model.fit([X, a0, c0], list(Y), epochs=100)"
   ]
  },
  {
   "cell_type": "code",
   "execution_count": null,
   "metadata": {},
   "outputs": [],
   "source": [
    "from IPython.display import SVG\n",
    "from keras.utils.vis_utils import model_to_dot\n",
    "\n",
    "SVG(model_to_dot(model).create(prog='dot', format='svg'))"
   ]
  },
  {
   "cell_type": "code",
   "execution_count": null,
   "metadata": {},
   "outputs": [],
   "source": []
  }
 ],
 "metadata": {
  "kernelspec": {
   "display_name": "Python 3",
   "language": "python",
   "name": "python3"
  },
  "language_info": {
   "codemirror_mode": {
    "name": "ipython",
    "version": 3
   },
   "file_extension": ".py",
   "mimetype": "text/x-python",
   "name": "python",
   "nbconvert_exporter": "python",
   "pygments_lexer": "ipython3",
   "version": "3.5.4"
  }
 },
 "nbformat": 4,
 "nbformat_minor": 2
}
